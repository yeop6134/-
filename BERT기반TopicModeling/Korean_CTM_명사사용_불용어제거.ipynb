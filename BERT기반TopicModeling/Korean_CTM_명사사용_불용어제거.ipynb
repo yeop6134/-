{
  "nbformat": 4,
  "nbformat_minor": 0,
  "metadata": {
    "colab": {
      "provenance": [],
      "mount_file_id": "1ONYObpr9HZuHzz5YrKV-49KV3MobpSJu",
      "authorship_tag": "ABX9TyMUr/aV7US6cXHG41mVZuzU",
      "include_colab_link": true
    },
    "kernelspec": {
      "name": "python3",
      "display_name": "Python 3"
    },
    "language_info": {
      "name": "python"
    },
    "accelerator": "GPU",
    "gpuClass": "standard",
    "widgets": {
      "application/vnd.jupyter.widget-state+json": {
        "41bd50574bbc409ab2dfc1b00d76f568": {
          "model_module": "@jupyter-widgets/controls",
          "model_name": "HBoxModel",
          "model_module_version": "1.5.0",
          "state": {
            "_dom_classes": [],
            "_model_module": "@jupyter-widgets/controls",
            "_model_module_version": "1.5.0",
            "_model_name": "HBoxModel",
            "_view_count": null,
            "_view_module": "@jupyter-widgets/controls",
            "_view_module_version": "1.5.0",
            "_view_name": "HBoxView",
            "box_style": "",
            "children": [
              "IPY_MODEL_12c02085b0e648c6ba99246b83fd0272",
              "IPY_MODEL_f30ca054fef949e18e4b27d611a7fdc1",
              "IPY_MODEL_6e4c3691ffbf4081a46ec9508db259f2"
            ],
            "layout": "IPY_MODEL_a907d2ce9d1b47c6b1a32b1a576e193c"
          }
        },
        "12c02085b0e648c6ba99246b83fd0272": {
          "model_module": "@jupyter-widgets/controls",
          "model_name": "HTMLModel",
          "model_module_version": "1.5.0",
          "state": {
            "_dom_classes": [],
            "_model_module": "@jupyter-widgets/controls",
            "_model_module_version": "1.5.0",
            "_model_name": "HTMLModel",
            "_view_count": null,
            "_view_module": "@jupyter-widgets/controls",
            "_view_module_version": "1.5.0",
            "_view_name": "HTMLView",
            "description": "",
            "description_tooltip": null,
            "layout": "IPY_MODEL_e9290b1ab7694c24b84220b0b700a855",
            "placeholder": "​",
            "style": "IPY_MODEL_05fd164339254bb6a93d1a4c6e97c3a7",
            "value": "Batches: 100%"
          }
        },
        "f30ca054fef949e18e4b27d611a7fdc1": {
          "model_module": "@jupyter-widgets/controls",
          "model_name": "FloatProgressModel",
          "model_module_version": "1.5.0",
          "state": {
            "_dom_classes": [],
            "_model_module": "@jupyter-widgets/controls",
            "_model_module_version": "1.5.0",
            "_model_name": "FloatProgressModel",
            "_view_count": null,
            "_view_module": "@jupyter-widgets/controls",
            "_view_module_version": "1.5.0",
            "_view_name": "ProgressView",
            "bar_style": "success",
            "description": "",
            "description_tooltip": null,
            "layout": "IPY_MODEL_0968061f5d374fc182f96c2a955ffef2",
            "max": 23,
            "min": 0,
            "orientation": "horizontal",
            "style": "IPY_MODEL_a3fb0a0a8b314657ba7dbc8bb6cd154b",
            "value": 23
          }
        },
        "6e4c3691ffbf4081a46ec9508db259f2": {
          "model_module": "@jupyter-widgets/controls",
          "model_name": "HTMLModel",
          "model_module_version": "1.5.0",
          "state": {
            "_dom_classes": [],
            "_model_module": "@jupyter-widgets/controls",
            "_model_module_version": "1.5.0",
            "_model_name": "HTMLModel",
            "_view_count": null,
            "_view_module": "@jupyter-widgets/controls",
            "_view_module_version": "1.5.0",
            "_view_name": "HTMLView",
            "description": "",
            "description_tooltip": null,
            "layout": "IPY_MODEL_7615a1380e8b4e3ba5ea01fba36522b2",
            "placeholder": "​",
            "style": "IPY_MODEL_7e81c09557144b6fbf03c59ee4eb1cee",
            "value": " 23/23 [00:05&lt;00:00,  5.78it/s]"
          }
        },
        "a907d2ce9d1b47c6b1a32b1a576e193c": {
          "model_module": "@jupyter-widgets/base",
          "model_name": "LayoutModel",
          "model_module_version": "1.2.0",
          "state": {
            "_model_module": "@jupyter-widgets/base",
            "_model_module_version": "1.2.0",
            "_model_name": "LayoutModel",
            "_view_count": null,
            "_view_module": "@jupyter-widgets/base",
            "_view_module_version": "1.2.0",
            "_view_name": "LayoutView",
            "align_content": null,
            "align_items": null,
            "align_self": null,
            "border": null,
            "bottom": null,
            "display": null,
            "flex": null,
            "flex_flow": null,
            "grid_area": null,
            "grid_auto_columns": null,
            "grid_auto_flow": null,
            "grid_auto_rows": null,
            "grid_column": null,
            "grid_gap": null,
            "grid_row": null,
            "grid_template_areas": null,
            "grid_template_columns": null,
            "grid_template_rows": null,
            "height": null,
            "justify_content": null,
            "justify_items": null,
            "left": null,
            "margin": null,
            "max_height": null,
            "max_width": null,
            "min_height": null,
            "min_width": null,
            "object_fit": null,
            "object_position": null,
            "order": null,
            "overflow": null,
            "overflow_x": null,
            "overflow_y": null,
            "padding": null,
            "right": null,
            "top": null,
            "visibility": null,
            "width": null
          }
        },
        "e9290b1ab7694c24b84220b0b700a855": {
          "model_module": "@jupyter-widgets/base",
          "model_name": "LayoutModel",
          "model_module_version": "1.2.0",
          "state": {
            "_model_module": "@jupyter-widgets/base",
            "_model_module_version": "1.2.0",
            "_model_name": "LayoutModel",
            "_view_count": null,
            "_view_module": "@jupyter-widgets/base",
            "_view_module_version": "1.2.0",
            "_view_name": "LayoutView",
            "align_content": null,
            "align_items": null,
            "align_self": null,
            "border": null,
            "bottom": null,
            "display": null,
            "flex": null,
            "flex_flow": null,
            "grid_area": null,
            "grid_auto_columns": null,
            "grid_auto_flow": null,
            "grid_auto_rows": null,
            "grid_column": null,
            "grid_gap": null,
            "grid_row": null,
            "grid_template_areas": null,
            "grid_template_columns": null,
            "grid_template_rows": null,
            "height": null,
            "justify_content": null,
            "justify_items": null,
            "left": null,
            "margin": null,
            "max_height": null,
            "max_width": null,
            "min_height": null,
            "min_width": null,
            "object_fit": null,
            "object_position": null,
            "order": null,
            "overflow": null,
            "overflow_x": null,
            "overflow_y": null,
            "padding": null,
            "right": null,
            "top": null,
            "visibility": null,
            "width": null
          }
        },
        "05fd164339254bb6a93d1a4c6e97c3a7": {
          "model_module": "@jupyter-widgets/controls",
          "model_name": "DescriptionStyleModel",
          "model_module_version": "1.5.0",
          "state": {
            "_model_module": "@jupyter-widgets/controls",
            "_model_module_version": "1.5.0",
            "_model_name": "DescriptionStyleModel",
            "_view_count": null,
            "_view_module": "@jupyter-widgets/base",
            "_view_module_version": "1.2.0",
            "_view_name": "StyleView",
            "description_width": ""
          }
        },
        "0968061f5d374fc182f96c2a955ffef2": {
          "model_module": "@jupyter-widgets/base",
          "model_name": "LayoutModel",
          "model_module_version": "1.2.0",
          "state": {
            "_model_module": "@jupyter-widgets/base",
            "_model_module_version": "1.2.0",
            "_model_name": "LayoutModel",
            "_view_count": null,
            "_view_module": "@jupyter-widgets/base",
            "_view_module_version": "1.2.0",
            "_view_name": "LayoutView",
            "align_content": null,
            "align_items": null,
            "align_self": null,
            "border": null,
            "bottom": null,
            "display": null,
            "flex": null,
            "flex_flow": null,
            "grid_area": null,
            "grid_auto_columns": null,
            "grid_auto_flow": null,
            "grid_auto_rows": null,
            "grid_column": null,
            "grid_gap": null,
            "grid_row": null,
            "grid_template_areas": null,
            "grid_template_columns": null,
            "grid_template_rows": null,
            "height": null,
            "justify_content": null,
            "justify_items": null,
            "left": null,
            "margin": null,
            "max_height": null,
            "max_width": null,
            "min_height": null,
            "min_width": null,
            "object_fit": null,
            "object_position": null,
            "order": null,
            "overflow": null,
            "overflow_x": null,
            "overflow_y": null,
            "padding": null,
            "right": null,
            "top": null,
            "visibility": null,
            "width": null
          }
        },
        "a3fb0a0a8b314657ba7dbc8bb6cd154b": {
          "model_module": "@jupyter-widgets/controls",
          "model_name": "ProgressStyleModel",
          "model_module_version": "1.5.0",
          "state": {
            "_model_module": "@jupyter-widgets/controls",
            "_model_module_version": "1.5.0",
            "_model_name": "ProgressStyleModel",
            "_view_count": null,
            "_view_module": "@jupyter-widgets/base",
            "_view_module_version": "1.2.0",
            "_view_name": "StyleView",
            "bar_color": null,
            "description_width": ""
          }
        },
        "7615a1380e8b4e3ba5ea01fba36522b2": {
          "model_module": "@jupyter-widgets/base",
          "model_name": "LayoutModel",
          "model_module_version": "1.2.0",
          "state": {
            "_model_module": "@jupyter-widgets/base",
            "_model_module_version": "1.2.0",
            "_model_name": "LayoutModel",
            "_view_count": null,
            "_view_module": "@jupyter-widgets/base",
            "_view_module_version": "1.2.0",
            "_view_name": "LayoutView",
            "align_content": null,
            "align_items": null,
            "align_self": null,
            "border": null,
            "bottom": null,
            "display": null,
            "flex": null,
            "flex_flow": null,
            "grid_area": null,
            "grid_auto_columns": null,
            "grid_auto_flow": null,
            "grid_auto_rows": null,
            "grid_column": null,
            "grid_gap": null,
            "grid_row": null,
            "grid_template_areas": null,
            "grid_template_columns": null,
            "grid_template_rows": null,
            "height": null,
            "justify_content": null,
            "justify_items": null,
            "left": null,
            "margin": null,
            "max_height": null,
            "max_width": null,
            "min_height": null,
            "min_width": null,
            "object_fit": null,
            "object_position": null,
            "order": null,
            "overflow": null,
            "overflow_x": null,
            "overflow_y": null,
            "padding": null,
            "right": null,
            "top": null,
            "visibility": null,
            "width": null
          }
        },
        "7e81c09557144b6fbf03c59ee4eb1cee": {
          "model_module": "@jupyter-widgets/controls",
          "model_name": "DescriptionStyleModel",
          "model_module_version": "1.5.0",
          "state": {
            "_model_module": "@jupyter-widgets/controls",
            "_model_module_version": "1.5.0",
            "_model_name": "DescriptionStyleModel",
            "_view_count": null,
            "_view_module": "@jupyter-widgets/base",
            "_view_module_version": "1.2.0",
            "_view_name": "StyleView",
            "description_width": ""
          }
        }
      }
    }
  },
  "cells": [
    {
      "cell_type": "markdown",
      "metadata": {
        "id": "view-in-github",
        "colab_type": "text"
      },
      "source": [
        "<a href=\"https://colab.research.google.com/github/yeop6134/Ai_humanities/blob/main/BERT%EA%B8%B0%EB%B0%98TopicModeling/Korean_CTM_%EB%AA%85%EC%82%AC%EC%82%AC%EC%9A%A9_%EB%B6%88%EC%9A%A9%EC%96%B4%EC%A0%9C%EA%B1%B0.ipynb\" target=\"_parent\"><img src=\"https://colab.research.google.com/assets/colab-badge.svg\" alt=\"Open In Colab\"/></a>"
      ]
    },
    {
      "cell_type": "code",
      "execution_count": null,
      "metadata": {
        "id": "Mr_Vz8aMQhYv"
      },
      "outputs": [],
      "source": [
        "!pip install contextualized-topic-models==2.2.0\n",
        "!pip install pyldavis\n",
        "\n",
        "# Colab에 Mecab 설치\n",
        "!git clone https://github.com/SOMJANG/Mecab-ko-for-Google-Colab.git\n",
        "%cd Mecab-ko-for-Google-Colab\n",
        "!bash install_mecab-ko_on_colab190912.sh"
      ]
    },
    {
      "cell_type": "code",
      "source": [
        "%cd \"/content/drive/MyDrive/Colab Notebooks/인공지능인문학\""
      ],
      "metadata": {
        "colab": {
          "base_uri": "https://localhost:8080/"
        },
        "id": "cgW8r36OYya4",
        "outputId": "2894d487-5705-4352-9fc0-f2a1f13c95e7"
      },
      "execution_count": null,
      "outputs": [
        {
          "output_type": "stream",
          "name": "stdout",
          "text": [
            "/content/drive/MyDrive/Colab Notebooks/인공지능인문학\n"
          ]
        }
      ]
    },
    {
      "cell_type": "code",
      "source": [
        "# with open(\"discrimination.txt\", \"r\", encoding='utf-8-sig') as f:\n",
        "#     text_file = f.readlines()"
      ],
      "metadata": {
        "id": "vLsFjtLRcVVw"
      },
      "execution_count": null,
      "outputs": []
    },
    {
      "cell_type": "code",
      "source": [
        "from contextualized_topic_models.models.ctm import CombinedTM\n",
        "from contextualized_topic_models.utils.data_preparation import TopicModelDataPreparation, bert_embeddings_from_list\n",
        "from contextualized_topic_models.utils.preprocessing import WhiteSpacePreprocessing\n",
        "from sklearn.feature_extraction.text import CountVectorizer\n",
        "from konlpy.tag import Mecab\n",
        "from tqdm import tqdm"
      ],
      "metadata": {
        "id": "z7gtvastaOLW"
      },
      "execution_count": null,
      "outputs": []
    },
    {
      "cell_type": "code",
      "source": [
        "documents = [line.strip() for line in open(\"discrimination.txt\", encoding=\"utf-8\").readlines()]"
      ],
      "metadata": {
        "id": "vC2LGeW_guj7"
      },
      "execution_count": null,
      "outputs": []
    },
    {
      "cell_type": "code",
      "source": [
        "documents[:5]"
      ],
      "metadata": {
        "colab": {
          "base_uri": "https://localhost:8080/"
        },
        "id": "T-yZkOxyg6Gj",
        "outputId": "fd3423af-47ba-43cf-8781-adcd55325af7"
      },
      "execution_count": null,
      "outputs": [
        {
          "output_type": "execute_result",
          "data": {
            "text/plain": [
              "['text',\n",
              " '남자들은 도대체 왜 그러는걸까?',\n",
              " '말하면서 침 개많이 튀길것 같아.',\n",
              " '머리가 멍청해서 못읽는거아니냐?',\n",
              " '\"동유럽, 러시아 애들은 가난해도 사랑으로 결혼하는데 헬조선은 자본주의의 지옥 그 자체다\"']"
            ]
          },
          "metadata": {},
          "execution_count": 10
        }
      ]
    },
    {
      "cell_type": "code",
      "source": [
        "korean_stopwords_path = \"./korean_stopwords.txt\"\n",
        "\n",
        "# 텍스트 파일을 오픈합니다.\n",
        "with open(korean_stopwords_path, encoding='utf-8') as f:\n",
        "    stopwords = f.readlines()\n",
        "stopwords = [x.strip() for x in stopwords]"
      ],
      "metadata": {
        "id": "dMMBDO7To1GX"
      },
      "execution_count": null,
      "outputs": []
    },
    {
      "cell_type": "code",
      "source": [
        "class CustomTokenizer:\n",
        "    def __init__(self, tagger):\n",
        "        self.tagger = tagger\n",
        "    def __call__(self, sent):\n",
        "        word_tokens = self.tagger.nouns(sent)\n",
        "        words = [word for word in word_tokens if len(word) > 1]\n",
        "\n",
        "        result = []\n",
        "        for w in words: \n",
        "         if w not in stopwords: \n",
        "            result.append(w)\n",
        "\n",
        "        return result"
      ],
      "metadata": {
        "id": "9E20iKpNaT1m"
      },
      "execution_count": null,
      "outputs": []
    },
    {
      "cell_type": "code",
      "source": [
        "custom_tokenizer = CustomTokenizer(Mecab())"
      ],
      "metadata": {
        "id": "0fvv7O-nggRk"
      },
      "execution_count": null,
      "outputs": []
    },
    {
      "cell_type": "code",
      "source": [
        "vectorizer = CountVectorizer(tokenizer=custom_tokenizer, max_features=3000)"
      ],
      "metadata": {
        "id": "kT0VCnW_giRc"
      },
      "execution_count": null,
      "outputs": []
    },
    {
      "cell_type": "code",
      "source": [
        "train_bow_embeddings = vectorizer.fit_transform(documents)"
      ],
      "metadata": {
        "id": "arOzdVjegksb"
      },
      "execution_count": null,
      "outputs": []
    },
    {
      "cell_type": "code",
      "source": [
        "print(train_bow_embeddings.shape)"
      ],
      "metadata": {
        "colab": {
          "base_uri": "https://localhost:8080/"
        },
        "id": "3ENoCcMzgp1K",
        "outputId": "132b8912-27ec-4604-e25a-be735ca3351e"
      },
      "execution_count": null,
      "outputs": [
        {
          "output_type": "stream",
          "name": "stdout",
          "text": [
            "(4436, 2812)\n"
          ]
        }
      ]
    },
    {
      "cell_type": "code",
      "source": [
        "vocab = vectorizer.get_feature_names()\n",
        "id2token = {k: v for k, v in zip(range(0, len(vocab)), vocab)}"
      ],
      "metadata": {
        "colab": {
          "base_uri": "https://localhost:8080/"
        },
        "id": "0zJEOmyyoFkZ",
        "outputId": "8d1add08-c2dc-408f-9be4-becdfb6c6cec"
      },
      "execution_count": null,
      "outputs": [
        {
          "output_type": "stream",
          "name": "stderr",
          "text": [
            "/usr/local/lib/python3.8/dist-packages/sklearn/utils/deprecation.py:87: FutureWarning: Function get_feature_names is deprecated; get_feature_names is deprecated in 1.0 and will be removed in 1.2. Please use get_feature_names_out instead.\n",
            "  warnings.warn(msg, category=FutureWarning)\n"
          ]
        }
      ]
    },
    {
      "cell_type": "code",
      "source": [
        "len(vocab)"
      ],
      "metadata": {
        "colab": {
          "base_uri": "https://localhost:8080/"
        },
        "id": "11bMKazeoJy3",
        "outputId": "e34917c5-f505-4ae3-c342-78382ec89ab1"
      },
      "execution_count": null,
      "outputs": [
        {
          "output_type": "execute_result",
          "data": {
            "text/plain": [
              "2812"
            ]
          },
          "metadata": {},
          "execution_count": 32
        }
      ]
    },
    {
      "cell_type": "code",
      "source": [
        "train_contextualized_embeddings = bert_embeddings_from_list(documents, \\\n",
        "                                                            \"sentence-transformers/xlm-r-100langs-bert-base-nli-stsb-mean-tokens\")"
      ],
      "metadata": {
        "colab": {
          "base_uri": "https://localhost:8080/",
          "height": 49,
          "referenced_widgets": [
            "41bd50574bbc409ab2dfc1b00d76f568",
            "12c02085b0e648c6ba99246b83fd0272",
            "f30ca054fef949e18e4b27d611a7fdc1",
            "6e4c3691ffbf4081a46ec9508db259f2",
            "a907d2ce9d1b47c6b1a32b1a576e193c",
            "e9290b1ab7694c24b84220b0b700a855",
            "05fd164339254bb6a93d1a4c6e97c3a7",
            "0968061f5d374fc182f96c2a955ffef2",
            "a3fb0a0a8b314657ba7dbc8bb6cd154b",
            "7615a1380e8b4e3ba5ea01fba36522b2",
            "7e81c09557144b6fbf03c59ee4eb1cee"
          ]
        },
        "id": "KS0Vt-wkoOv-",
        "outputId": "ff37e9d7-2fae-4a75-f4ff-c93a2334359a"
      },
      "execution_count": null,
      "outputs": [
        {
          "output_type": "display_data",
          "data": {
            "text/plain": [
              "Batches:   0%|          | 0/23 [00:00<?, ?it/s]"
            ],
            "application/vnd.jupyter.widget-view+json": {
              "version_major": 2,
              "version_minor": 0,
              "model_id": "41bd50574bbc409ab2dfc1b00d76f568"
            }
          },
          "metadata": {}
        }
      ]
    },
    {
      "cell_type": "code",
      "source": [
        "qt = TopicModelDataPreparation()\n",
        "\n",
        "training_dataset = qt.load(train_contextualized_embeddings, train_bow_embeddings, id2token)"
      ],
      "metadata": {
        "id": "r761l91loTjn"
      },
      "execution_count": null,
      "outputs": []
    },
    {
      "cell_type": "markdown",
      "source": [
        "# Combined TM 학습하기"
      ],
      "metadata": {
        "id": "Bzsl0TNhosy-"
      }
    },
    {
      "cell_type": "code",
      "source": [
        "ctm = CombinedTM(bow_size=len(vocab), contextual_size=768, n_components=8, num_epochs=20)\n",
        "ctm.fit(training_dataset)"
      ],
      "metadata": {
        "colab": {
          "base_uri": "https://localhost:8080/"
        },
        "id": "7_WranMqomvX",
        "outputId": "dc2bc76b-1744-45e7-f0fa-dcaf8708f991"
      },
      "execution_count": null,
      "outputs": [
        {
          "output_type": "stream",
          "name": "stderr",
          "text": [
            "Epoch: [20/20]\t Seen Samples: [88720/88720]\tTrain Loss: 20.539516645041104\tTime: 0:00:01.404779: : 20it [00:28,  1.41s/it]\n"
          ]
        }
      ]
    },
    {
      "cell_type": "markdown",
      "source": [
        "# 토픽들\n",
        "학습 후에는 토픽 모델이 선정한 토픽들을 보려면 아래의 메소드를 사용합니다.  \n",
        "\n",
        "\n",
        "> get_topic_lists\n",
        "\n",
        "\n",
        "해당 메소드에는 각 토픽마다 몇 개의 단어를 보고 싶은지에 해당하는 파라미터를 넣어즐 수 있습니다."
      ],
      "metadata": {
        "id": "jwrnT-c_o9fq"
      }
    },
    {
      "cell_type": "code",
      "source": [
        "ctm.get_topics(10)"
      ],
      "metadata": {
        "colab": {
          "base_uri": "https://localhost:8080/"
        },
        "id": "2tM_s_qQo9MA",
        "outputId": "cae228f4-4541-4338-fdc9-a1543387416c"
      },
      "execution_count": null,
      "outputs": [
        {
          "output_type": "execute_result",
          "data": {
            "text/plain": [
              "defaultdict(list,\n",
              "            {0: ['여자', '남자', '결혼', '화장', '한남', '임신', '머리', '설거지', '시집', '게임'],\n",
              "             1: ['여자', '남자', '인간', '결혼', '인물', '집단', '여성', '남성', '게이', '군대'],\n",
              "             2: ['세상', '한남', '회사', '조심', '인생', '민이', '인정', '성공', '누가', '아줌마'],\n",
              "             3: ['사람', '나라', '인간', '이슬람', '집단', '인물', '학교', '가난', '사회', '인종'],\n",
              "             4: ['유행',\n",
              "              '군침',\n",
              "              '수입',\n",
              "              '스턴트맨',\n",
              "              '이사',\n",
              "              '일본어',\n",
              "              '가운데',\n",
              "              '실제',\n",
              "              '일지',\n",
              "              '장땡'],\n",
              "             5: ['벌기',\n",
              "              '농구',\n",
              "              '벨라루스',\n",
              "              '수입',\n",
              "              '군침',\n",
              "              '동유럽',\n",
              "              '실제',\n",
              "              '혼수',\n",
              "              '업적',\n",
              "              '구림'],\n",
              "             6: ['공부', '여경', '아이돌', '부모', '주제', '뭔가', '회사', '인정', '직업', '얘기'],\n",
              "             7: ['장애',\n",
              "              '중국',\n",
              "              '조선족',\n",
              "              '중국인',\n",
              "              '동네',\n",
              "              '흑인',\n",
              "              '한국',\n",
              "              '요즘',\n",
              "              '문제',\n",
              "              '한국인']})"
            ]
          },
          "metadata": {},
          "execution_count": 36
        }
      ]
    },
    {
      "cell_type": "markdown",
      "source": [
        "- 0번 토픽은 성 차별로 모델링이 된 듯 하다.\n",
        "- 1번도 마찬가지다.\n",
        "- 7번은 국가 차별로 보인다.\n",
        "- 나머지 경향성은 잘 모르겠다."
      ],
      "metadata": {
        "id": "-icfai-8qB_m"
      }
    },
    {
      "cell_type": "markdown",
      "source": [
        "# 시각화"
      ],
      "metadata": {
        "id": "bXApJMdCpapD"
      }
    },
    {
      "cell_type": "code",
      "source": [
        "%pip install pyLDAvis"
      ],
      "metadata": {
        "id": "SCgjcYqgro3f"
      },
      "execution_count": null,
      "outputs": []
    },
    {
      "cell_type": "code",
      "source": [
        "import pyLDAvis as vis\n",
        "\n",
        "lda_vis_data = ctm.get_ldavis_data_format(vocab, training_dataset, n_samples=10)\n",
        "\n",
        "ctm_pd = vis.prepare(**lda_vis_data)\n",
        "vis.display(ctm_pd)\n",
        "     "
      ],
      "metadata": {
        "colab": {
          "base_uri": "https://localhost:8080/",
          "height": 918
        },
        "id": "K7bTaSZ0osfO",
        "outputId": "2615b69e-8831-42fd-9b77-0b579eaaa8c0"
      },
      "execution_count": null,
      "outputs": [
        {
          "output_type": "stream",
          "name": "stderr",
          "text": [
            "Sampling: [10/10]: : 10it [00:17,  1.79s/it]\n",
            "/usr/local/lib/python3.8/dist-packages/pyLDAvis/_prepare.py:246: FutureWarning: In a future version of pandas all arguments of DataFrame.drop except for the argument 'labels' will be keyword-only\n",
            "  default_term_info = default_term_info.sort_values(\n"
          ]
        },
        {
          "output_type": "execute_result",
          "data": {
            "text/plain": [
              "<IPython.core.display.HTML object>"
            ],
            "text/html": [
              "\n",
              "<link rel=\"stylesheet\" type=\"text/css\" href=\"https://cdn.jsdelivr.net/gh/bmabey/pyLDAvis@3.3.1/pyLDAvis/js/ldavis.v1.0.0.css\">\n",
              "\n",
              "\n",
              "<div id=\"ldavis_el5521397907822399048839789801\"></div>\n",
              "<script type=\"text/javascript\">\n",
              "\n",
              "var ldavis_el5521397907822399048839789801_data = {\"mdsDat\": {\"x\": [0.0005147719501372843, 0.0003880958243871319, 0.00022398999527626964, 1.3134819760352468e-05, -3.7589275780527553e-06, 0.00019928423617303047, -0.0005036992710401873, -0.0008318186271158295], \"y\": [0.0003247601952517345, -0.00031141089424421945, 5.8307818203209025e-06, -0.0004803113362095654, -1.91695604834269e-05, 0.00029116802036939, 0.00017648919746664546, 1.264359602912143e-05], \"topics\": [1, 2, 3, 4, 5, 6, 7, 8], \"cluster\": [1, 1, 1, 1, 1, 1, 1, 1], \"Freq\": [14.420390856818925, 14.325697270162111, 13.735375876815858, 13.717651562786399, 11.65308929668541, 11.592026497094475, 10.760212854598473, 9.795555785038363]}, \"tinfo\": {\"Term\": [\"\\uad70\\uce68\", \"\\ubc8c\\uae30\", \"\\uc218\\uc785\", \"\\uc2e4\\uc81c\", \"\\uc545\\ub3c5\", \"\\ud63c\\uc218\", \"\\ub18d\\uad6c\", \"\\uad6c\\ub9bc\", \"\\uc77c\\ubcf8\\uc5b4\", \"\\ub3c4\\uc7a5\", \"\\ub3d9\\uc720\\ub7fd\", \"\\uac00\\uc6b4\\ub370\", \"\\uc218\\ub2a5\", \"\\ub3d9\\ub140\", \"\\uc9c0\\uc625\", \"\\ud504\\ub85c\\uc81d\\ud2b8\", \"\\uc9c0\\uac11\", \"\\ud6c4\\uc790\", \"\\uad6d\\ubb3c\", \"\\uc720\\uae30\", \"\\uc218\\ub2e4\", \"\\uc7a5\\ub561\", \"\\ud48d\\uacbd\", \"\\uc544\\uce68\\ubc25\", \"\\ubca8\\ub77c\\ub8e8\\uc2a4\", \"\\uc624\\ud53c\", \"\\uac04\\uc12d\", \"\\uc601\\uc5c5\", \"\\ucabd\\ubc1c\\uc774\", \"\\ud3b8\\uc548\", \"\\uc774\\uc2ac\\ub78c\", \"\\uc0ac\\ub78c\", \"\\ub098\\ub77c\", \"\\uc778\\ubb3c\", \"\\uc778\\uac04\", \"\\uc9d1\\ub2e8\", \"\\uc815\\ubcf4\", \"\\ud559\\uad50\", \"\\uc0ac\\ud68c\", \"\\ub2e8\\uccb4\", \"\\ub09c\\ubbfc\", \"\\uc870\\uc9c1\", \"\\uc815\\uc2e0\\ubcd1\", \"\\uc11c\\uc6b8\", \"\\ub0a8\\uc131\", \"\\uc815\\uce58\\uc778\", \"\\ubc29\\uc1a1\\uc778\", \"\\uac00\\ub09c\", \"\\uc9c0\\uc5ed\", \"\\ubbf8\\uad6d\\uc778\", \"\\uae30\\uad00\", \"\\uc678\\ub178\", \"\\uad6d\\uac00\", \"\\ud55c\\uad6d\\uc778\", \"\\uc815\\ub2f9\", \"\\uc778\\uc885\", \"\\ubaa8\\ubc94\", \"\\uad50\\uc721\", \"\\ubbf8\\uad6d\", \"\\uc678\\uad6d\\uc778\", \"\\uce5c\\uad6c\", \"\\uc0ac\\uace0\", \"\\ubd80\\ubaa8\", \"\\ub3d9\\ub124\", \"\\ucc28\\ubcc4\", \"\\ud751\\uc778\", \"\\ud55c\\uad6d\", \"\\uacbd\\uc0c1\\ub3c4\", \"\\uc870\\uc120\\uc871\", \"\\uacb0\\ud63c\", \"\\ub0a8\\uc131\", \"\\uc778\\uac04\", \"\\uc5ec\\uc131\", \"\\uc778\\ubb3c\", \"\\ub0a8\\uc790\", \"\\uc5ec\\uc790\", \"\\uc9d1\\ub2e8\", \"\\uc778\\uad8c\", \"\\uad70\\ub300\", \"\\uac8c\\uc774\", \"\\uc815\\ubcf4\", \"\\uc815\\uce58\\uc778\", \"\\uc0ac\\ub791\", \"\\ubc29\\uc1a1\\uc778\", \"\\ub3d9\\uc131\\uc560\\uc790\", \"\\uc18c\\ubc29\\uad00\", \"\\uc870\\uc9c1\", \"\\ub2e8\\uccb4\", \"\\uc815\\ub2f9\", \"\\ub0a8\\ub140\", \"\\ubc31\\ub9c8\", \"\\ucd95\\uad6c\", \"\\uc0dd\\uac01\", \"\\uc9c0\\uc9c0\\uc790\", \"\\ub178\\ucd9c\", \"\\ucd9c\\uc0b0\", \"\\uc131\\ubcc4\", \"\\uacc4\\uc9d1\", \"\\ud544\\uc694\", \"\\ud55c\\uad6d\", \"\\uc6b4\\ub3d9\", \"\\ub098\\ub77c\", \"\\uc77c\\ubcf8\", \"\\uc9c0\\uc9c0\", \"\\uc870\\uc120\", \"\\ub2a5\\ub825\", \"\\ud55c\\ub0a8\", \"\\ucc28\\ubcc4\", \"\\ucc28\\uc774\", \"\\ub178\\ucc98\\ub140\", \"\\uc0ac\\ub78c\", \"\\uc5ec\\uacbd\", \"\\uc598\\uae30\", \"\\ud68c\\uc0ac\", \"\\uacf5\\ubd80\", \"\\uc9c1\\uc5c5\", \"\\uc8fc\\uc81c\", \"\\uc544\\ud30c\\ud2b8\", \"\\uc2dc\\uace8\", \"\\ub0a8\\uc544\", \"\\uc544\\uc774\\ub3cc\", \"\\uc7ac\\uc218\", \"\\ubb54\\uac00\", \"\\uc9c1\\uc7a5\", \"\\ub300\\ub9ac\", \"\\uad00\\uc0c1\", \"\\ucde8\\uc9c1\", \"\\uc544\\uc800\\uc528\", \"\\uc778\\uc815\", \"\\ubd80\\ubaa8\", \"\\uc0c1\\ub300\", \"\\uc9c0\\ubc29\", \"\\uc784\\ub300\", \"\\uacbd\\ucc30\", \"\\ub4dc\\ub77c\\ub9c8\", \"\\ud0c8\\ub808\\ubc18\", \"\\ucde8\\ud5a5\", \"\\uc5c5\\ubb34\", \"\\uc790\\ud1f4\", \"\\ubc84\\uc2a4\", \"\\uace0\\uc544\\uc6d0\", \"\\uc560\\ucd08\", \"\\uc138\\uae08\", \"\\ucc28\\uc774\", \"\\ub204\\uac00\", \"\\uac8c\\uc784\", \"\\ucd9c\\uc2e0\", \"\\uce5c\\uad6c\", \"\\ub2a5\\ub825\", \"\\uc9c0\\ub124\", \"\\ubbf8\\uac1c\", \"\\uc778\\uc0dd\", \"\\ucde8\\ubbf8\", \"\\ub178\\uc608\", \"\\uc5ec\\uc790\", \"\\ub0a8\\uc790\", \"\\uacb0\\ud63c\", \"\\ud654\\uc7a5\", \"\\ub2f4\\ubc30\", \"\\ub0a8\\ud3b8\", \"\\uc784\\uc2e0\", \"\\uc2dc\\uc9d1\", \"\\uc124\\uac70\\uc9c0\", \"\\uc560\\uad50\", \"\\uc2dc\\ub140\", \"\\uba38\\ub9ac\", \"\\uc18c\\ubc29\\uad00\", \"\\uc5ec\\uc131\", \"\\uc694\\ub9ac\", \"\\ub9e4\\ub825\", \"\\uc0ac\\ub791\", \"\\ud788\\uc7a1\", \"\\ubc14\\uc9c0\", \"\\uc870\\uc2e0\", \"\\ucd5c\\uace0\", \"\\uad00\\ub9ac\", \"\\uce58\\ub9c8\", \"\\uc778\\uae30\", \"\\ud314\\uc790\", \"\\ud6a8\\ub3c4\", \"\\uae30\\uacc4\", \"\\uccb4\\ub825\", \"\\ud551\\ud06c\", \"\\ud398\\ubbf8\", \"\\ud55c\\ub0a8\", \"\\ub808\\uc988\", \"\\uac8c\\uc784\", \"\\ubd84\\ud64d\\uc0c9\", \"\\uc815\\ub3c4\", \"\\uc2e0\\ubd80\", \"\\uc720\\uc77c\", \"\\uc21c\\uc885\", \"\\uc544\\uce68\", \"\\ud53c\\ubd80\", \"\\ubbf8\\ub355\", \"\\uac04\\ud638\\uc0ac\", \"\\ud569\\ub9ac\", \"\\ubaa8\\uc591\", \"\\ud68c\\uc0ac\", \"\\ub9c8\\uc2a4\\ud06c\", \"\\uc138\\uc0c1\", \"\\ubbfc\\uc774\", \"\\uc544\\uc90c\\ub9c8\", \"\\uc131\\uacf5\", \"\\uc0ac\\uae30\", \"\\ubc30\\ub2ec\", \"\\uc0c1\\uc885\", \"\\ub3c4\\uc7a5\", \"\\uc870\\uc2ec\", \"\\ud3b8\\uc758\\uc810\", \"\\ud611\\ub3d9\", \"\\ucd0c\\uad6c\\uc11d\", \"\\uc6b4\\uc804\", \"\\ub9d0\\ub300\\uafb8\", \"\\uace0\\uc9d1\", \"\\uac74\\ub370\", \"\\uc2dd\\ubaa8\", \"\\uc9d1\\uc548\\uc77c\", \"\\ubcd1\\uc6d0\", \"\\uac15\\ub3c4\", \"\\ud560\\ub9e4\", \"\\uc7a0\\uc7ac\", \"\\ud3c9\\uc810\", \"\\ub178\\ub798\", \"\\ub204\\uac00\", \"\\uc0c1\\ub3c4\", \"\\ub9d0\\uc138\", \"\\ud55c\\ub0a8\", \"\\uc778\\uc0dd\", \"\\uc778\\uc131\", \"\\uc778\\uc815\", \"\\ub178\\uac00\\ub2e4\", \"\\uae40\\uc5ec\\uc0ac\", \"\\ub370\\ubdd4\", \"\\uc2e4\\ub825\", \"\\uc804\\ub77c\\ub3c4\", \"\\ucde8\\uc9c1\", \"\\uc544\\uc774\\ub3cc\", \"\\ub2e8\\uacb0\", \"\\uc911\\uad6d\", \"\\uc7a5\\uc560\", \"\\uc911\\uad6d\\uc778\", \"\\uc870\\uc120\\uc871\", \"\\ucc44\\uc2dd\\uc8fc\\uc758\\uc790\", \"\\ub3d9\\ub124\", \"\\uc2dc\\ud5d8\", \"\\ub3d9\\uc591\\uc778\", \"\\uc138\\uacc4\", \"\\ubc1c\\uc74c\", \"\\ud55c\\uad6d\\uc5b4\", \"\\ubd81\\ud55c\", \"\\ubca0\\ud2b8\\ub0a8\", \"\\uc694\\uc998\", \"\\ud751\\uc778\", \"\\uc720\\uc804\\uc790\", \"\\uc790\\uccb4\", \"\\ud55c\\uad6d\\uc778\", \"\\uc601\\uc5b4\", \"\\ub3d9\\uc131\\uc560\\uc790\", \"\\ud559\\uad50\", \"\\ud53c\\ud574\", \"\\ud55c\\uad6d\", \"\\uc544\\uc2dc\\uc544\", \"\\uc544\\uc2dc\\uc544\\uc778\", \"\\ub3d9\\uc131\\uc560\", \"\\ub3d9\\ub0a8\\uc544\", \"\\uc77c\\ubcf8\\uc778\", \"\\uc5b4\\ub9b0\\uc774\", \"\\uad6d\\uc801\", \"\\uc11c\\uc6b8\", \"\\ubb38\\uc81c\", \"\\uc77c\\ubcf8\", \"\\uc815\\uc0c1\", \"\\uc0ac\\ub78c\", \"\\uc7a5\\uc560\\uc778\", \"\\ucc28\\ubcc4\", \"\\uc758\\uc0ac\", \"\\uac1c\\ubd88\", \"\\uc778\\uc885\", \"\\uc720\\ud589\", \"\\uc2a4\\ud134\\ud2b8\\ub9e8\", \"\\uad70\\uce68\", \"\\uc218\\uc785\", \"\\uc758\\ubbf8\", \"\\uc774\\uc0ac\", \"\\uc77c\\uc9c0\", \"\\uc758\\uc0c1\", \"\\ucabd\\ubc1c\\uc774\", \"\\ud48d\\uacbd\", \"\\ud0c8\\ucd9c\", \"\\ucca0\\uac15\", \"\\uc77c\\ubcf8\\uc5b4\", \"\\uac00\\uc6b4\\ub370\", \"\\uacf5\\uae30\\uc5c5\", \"\\uace0\\ub9c8\\uc6c0\", \"\\uc545\\ub3c5\", \"\\uc758\\uc9c0\", \"\\uc2e4\\uc81c\", \"\\uac00\\uc744\", \"\\ubca0\\ud2b8\\ucf69\", \"\\uc218\\uc6a9\\uc18c\", \"\\ud30c\\uc2a4\\ud0c0\", \"\\uc9c0\\uc801\", \"\\ubd80\\uc2dc\", \"\\uac70\\uc9d3\\uaf34\", \"\\ub3d9\\uc720\\ub7fd\", \"\\ud559\\ubc8c\\uc8fc\\uc758\", \"\\ud0c8\\ubaa8\", \"\\uacbd\\uc81c\", \"\\uc544\\ubb34\", \"\\uc7a5\\ub561\", \"\\ubc8c\\uae30\", \"\\uc2ec\\ubd80\\ub984\", \"\\uce74\\uc640\\uc774\", \"\\ud6c4\\uc790\", \"\\ud504\\ub85c\\uc81d\\ud2b8\", \"\\uc544\\uce68\\ubc25\", \"\\uae5c\\ub465\\uc774\", \"\\uc6b0\\uc720\\ubd80\\ub2e8\", \"\\uc601\\uc0c1\", \"\\uc131\\uad00\", \"\\uc9c4\\ud759\", \"\\ub18d\\uad6c\", \"\\ubc8c\\uae30\", \"\\uad6c\\ub9bc\", \"\\uad70\\uce68\", \"\\ubca8\\ub77c\\ub8e8\\uc2a4\", \"\\uc218\\uc785\", \"\\ud63c\\uc218\", \"\\uc545\\ub3c5\", \"\\ub3d9\\uc720\\ub7fd\", \"\\ubc1c\\ubaa9\", \"\\uad00\\uacc4\", \"\\ubc18\\ub370\", \"\\uc2e4\\uc81c\", \"\\uc5c5\\uc801\", \"\\uc9c0\\uc625\", \"\\uc608\\ucc9c\", \"\\uae30\\uc790\", \"\\ub0a8\\uc8fc\", \"\\uc6d4\\ub4dc\\ucef5\", \"\\uc0b4\\uc810\", \"\\uac04\\uc12d\", \"\\ud504\\ub85c\\uc81d\\ud2b8\", \"\\uc9c0\\uac11\", \"\\ud30c\\ud1a0\", \"\\uc874\\uc2ec\", \"\\ud3b8\\uc548\", \"\\ubaa9\\uc18c\\ub9ac\", \"\\ucc3d\\ud53c\", \"\\uac00\\uc6b4\\ub370\", \"\\uc624\\ud53c\", \"\\ud6c4\\uc790\", \"\\uc77c\\ubcf8\\uc5b4\", \"\\ubc2d\\uc77c\", \"\\uc0b4\\uae38\", \"\\uc544\\uce68\\ubc25\", \"\\uc7a5\\ub561\", \"\\uc6b0\\ud06c\\ub77c\"], \"Freq\": [3.0, 3.0, 3.0, 3.0, 3.0, 3.0, 3.0, 3.0, 3.0, 3.0, 3.0, 3.0, 3.0, 3.0, 3.0, 3.0, 3.0, 3.0, 3.0, 3.0, 3.0, 3.0, 3.0, 3.0, 3.0, 3.0, 3.0, 3.0, 3.0, 3.0, 0.6809507662114456, 0.710443794520917, 0.6973709967950105, 0.6734494572307362, 0.6869797046218603, 0.6757539719743448, 0.635834588741054, 0.6660064831286593, 0.6539867160733558, 0.6468396556894583, 0.6518021389000466, 0.6495328635456497, 0.6441322284306028, 0.6524138381724274, 0.6414172940336945, 0.6362388260453692, 0.6214343082092683, 0.6548542321147881, 0.642348399950396, 0.6350310600116112, 0.6178128648126896, 0.642511039888324, 0.6260896611542335, 0.6369955897207078, 0.6289391941204614, 0.6534783503482874, 0.6230469297822399, 0.6177981596540336, 0.6037488157463895, 0.610398815271933, 0.6409691178919538, 0.6391250556687837, 0.6470978129191969, 0.6399368422500844, 0.6390111238089266, 0.6396577091934341, 0.6375960724456453, 0.6315278319595434, 0.6327097204468377, 0.6927132578636561, 0.6676816275727248, 0.6953843056752999, 0.6697092830247856, 0.6798927898993493, 0.6969199629470305, 0.7095954855713631, 0.6720759631703455, 0.624381181389896, 0.6630703565313472, 0.6651217015970842, 0.6260757784215317, 0.6431723093936982, 0.6307069662862592, 0.6164907413798761, 0.6205806654417579, 0.6033223870517692, 0.6309193831555556, 0.6273012333630693, 0.6294225943981159, 0.6144622524043711, 0.6210297590995414, 0.6104899867570809, 0.6248624753744169, 0.6134147766529895, 0.6128183686938643, 0.6036962003816483, 0.6155555280755266, 0.6193742060608163, 0.6077632683532981, 0.6477267253622528, 0.6236513219403949, 0.6355982134655652, 0.6185658199289442, 0.6163996679761877, 0.6202880987128572, 0.627677371784661, 0.6304709036729417, 0.6256639739704608, 0.6225195725818431, 0.6205691715921595, 0.6220644249116758, 0.6078957696325293, 0.5956456166757345, 0.5976294246356517, 0.6165476102461175, 0.5972151989383134, 0.6001933504690145, 0.589573601297783, 0.5914997003161134, 0.5887109115077334, 0.6067313276945608, 0.5759639232608328, 0.5985723264895545, 0.5834875793035427, 0.5851648821196231, 0.5773679919045016, 0.5920465472181337, 0.5677072963609116, 0.5975558583537016, 0.6032076752429844, 0.5670936972064871, 0.5820910818038137, 0.5663794438995717, 0.5689845483435858, 0.5683667850599944, 0.5702587298067733, 0.5591502632942162, 0.5697588239971808, 0.5680801751999555, 0.5851621480954227, 0.5594143279700784, 0.5773093155389668, 0.5875848720943048, 0.583114279845391, 0.5855590442855205, 0.5855777618358167, 0.5857841175700917, 0.5854359290726744, 0.5870166577416094, 0.5752966951701668, 0.5774519474784139, 0.5869050254304055, 0.5797440692443314, 0.5779860916833793, 0.7721891082618236, 0.6694213815691061, 0.6369952691775508, 0.624249691083169, 0.5998417857400236, 0.5974883920872504, 0.6129739180780698, 0.6063839705693898, 0.6108663530966644, 0.5853052962057211, 0.5836940514143717, 0.6112212335846536, 0.5747940621307126, 0.6024721357206037, 0.5792475434061245, 0.5709076839078406, 0.5888639308718586, 0.5709658644802679, 0.5951771320908993, 0.5753378089390145, 0.5790536781774229, 0.595317353571594, 0.5912493343413752, 0.5817825780662444, 0.5792161216962504, 0.5786139842773537, 0.5732131888583992, 0.5792859803907966, 0.5714027858765246, 0.5899012253664042, 0.6184485209091215, 0.593099392529294, 0.6039661372067947, 0.5937253062687639, 0.5937743291770834, 0.5936398627421813, 0.5907313802200554, 0.5857746474950565, 0.5848185117484743, 0.5906687888461084, 0.5921064580957471, 0.5831145981175766, 0.5839925576581753, 0.48310928090684263, 0.5044473501510899, 0.4940148556333987, 0.5098030020894203, 0.5001965155369246, 0.49473687659334165, 0.4965299922556366, 0.4795867835532139, 0.4863910808169476, 0.4846734752792629, 0.49379157262314993, 0.5034342440841308, 0.4792879904183549, 0.4871401512449693, 0.48096223829942264, 0.48681755600561355, 0.48456995218309357, 0.4788770740266313, 0.48676302884568706, 0.47954703011331984, 0.46910779107126604, 0.47897021269640105, 0.47579586126701506, 0.49135405155905343, 0.48381081849649904, 0.47896632299716546, 0.47315736051397483, 0.4962991796441153, 0.4903457273241823, 0.48160257557541813, 0.505307294849983, 0.5022308282371405, 0.49085684807786506, 0.4967994877476294, 0.48926785241215354, 0.4851166868802361, 0.48760166941206967, 0.48181251227819794, 0.48767072049483, 0.4847594055155869, 0.48462840472756974, 0.48235360869571464, 0.6046098200373036, 0.6053304359570355, 0.5597489231548649, 0.5753529556894706, 0.5070447787050856, 0.539385204721269, 0.5039681747076842, 0.5083295694431574, 0.4979682484636893, 0.5002582806606266, 0.510714950130755, 0.5101327421652612, 0.5089628239944923, 0.5209498260902189, 0.5321492269341674, 0.5061370156361503, 0.4947987098614673, 0.5171886724673932, 0.516730886117597, 0.49721160174797074, 0.5160138555283031, 0.49202760441604676, 0.5320862884107347, 0.5056844830378872, 0.5087697131273327, 0.5077331621491961, 0.5116770256310789, 0.4812219154521843, 0.494869209527309, 0.48706784997894775, 0.5073943661719585, 0.5182800328534148, 0.5030262977521054, 0.5136278003726035, 0.5168228267694249, 0.5051511207623219, 0.5079207707765745, 0.505596482699709, 0.5043886523219318, 0.5052812221094066, 0.5070084448055476, 0.4660088980862175, 0.4733846949778552, 0.4732720682750813, 0.4489593307439161, 0.4654126817140726, 0.45577505856971173, 0.4441150974335291, 0.4450296539389388, 0.442136057126741, 0.4535547835961571, 0.4375275556570926, 0.46384651811464467, 0.4563587205902601, 0.4534981407342295, 0.4490017057994361, 0.43907645290419356, 0.44964191182874985, 0.45584613399331714, 0.4401652545834676, 0.4415128867923757, 0.4419035874403542, 0.4349919390961926, 0.4353281057497033, 0.44479985328793076, 0.44987461217251506, 0.45176287232537043, 0.45309785132951985, 0.4426482483110353, 0.4372597624407545, 0.4526821078804565, 0.45466131294251494, 0.445781069775702, 0.44855808575863876, 0.4539784682492487, 0.4495709352583066, 0.4479721830664143, 0.45090887985732137, 0.44725803487179194, 0.4499127694931155, 0.44804787163758797, 0.4476568414790689, 0.44641620134269067, 0.4534784130187046, 0.45389222135577434, 0.42477856256867563, 0.43997866219667886, 0.45116345609252256, 0.4494782857583506, 0.42803098510921816, 0.41882842163902895, 0.43157815797379456, 0.42334956644244676, 0.4228548862476938, 0.416888276976108, 0.42868458930323133, 0.42575394436557007, 0.4237215289926218, 0.41410683701623463, 0.41724131143199583, 0.40240438523907074, 0.4232633551223497, 0.4112354961077424, 0.41825100977384194, 0.4205430190104366, 0.41185739349405115, 0.42015458811832235, 0.40557770574374136, 0.4038096837512159, 0.4134498131665182, 0.4122613028277694, 0.41632967321728864, 0.4105847416268152, 0.41831886294226905, 0.42058513477014997, 0.4135420838765455, 0.4171434312867361, 0.4171591197071991, 0.41579503704537174, 0.41241452740085766], \"Total\": [3.0, 3.0, 3.0, 3.0, 3.0, 3.0, 3.0, 3.0, 3.0, 3.0, 3.0, 3.0, 3.0, 3.0, 3.0, 3.0, 3.0, 3.0, 3.0, 3.0, 3.0, 3.0, 3.0, 3.0, 3.0, 3.0, 3.0, 3.0, 3.0, 3.0, 3.774677178515057, 3.9633382892078264, 3.9089448660846866, 3.788948913431391, 3.866228956719406, 3.812555853787398, 3.5895531249709736, 3.777529575998073, 3.718927502472623, 3.7099826581215507, 3.7384945970331196, 3.7293960717204153, 3.703382205093569, 3.759799398430319, 3.70814378209309, 3.6921347170993495, 3.607676106481268, 3.834759218729472, 3.7639228551300605, 3.7242037583654928, 3.629675761182531, 3.789438763280686, 3.693242719395797, 3.768505120377595, 3.7282673345857473, 3.887718973981574, 3.716745417687223, 3.694091177398448, 3.6144722134792904, 3.656657057163117, 3.8505741134208096, 3.8399890683844657, 3.902855894244868, 3.8537839206878863, 3.8487614185168053, 3.8679847787643773, 3.899555181455813, 3.795567557551033, 3.836684424951906, 3.7764236581755064, 3.70814378209309, 3.866228956719406, 3.725296072862517, 3.788948913431391, 3.8866844922947505, 3.964064210902851, 3.812555853787398, 3.558903848982183, 3.781045340586694, 3.807885467350397, 3.5895531249709736, 3.6921347170993495, 3.64885786287675, 3.607676106481268, 3.63790153288254, 3.5495983860895963, 3.7293960717204153, 3.7099826581215507, 3.7282673345857473, 3.6561060781874577, 3.6966666412228366, 3.6427300678943095, 3.729141011503925, 3.672456161565471, 3.670604862342886, 3.616700053886038, 3.6911758426476724, 3.7183870434969952, 3.6494645140392263, 3.899555181455813, 3.7607974976925727, 3.9089448660846866, 3.731565027401481, 3.708509549236656, 3.7599470576775453, 3.866589430966605, 3.915843931647904, 3.8487614185168053, 3.8150436244940193, 3.778667045447585, 3.9633382892078264, 3.762908903089613, 3.7405370023783777, 3.7676858121844816, 3.889443212193846, 3.7702825233111583, 3.7959571152371065, 3.7373863544174823, 3.749801210494437, 3.7408506485661777, 3.8579367576796586, 3.6831173147880327, 3.8392676979637113, 3.751245210706463, 3.7633683584594313, 3.7190290070393157, 3.819272509386077, 3.6645303701859957, 3.8620999494355095, 3.902855894244868, 3.673595232985962, 3.7715523159701503, 3.6709533772764744, 3.6927500032230145, 3.688758090388726, 3.706326224097609, 3.6382202063645748, 3.7102865301878154, 3.704837596018864, 3.8178326731271506, 3.6509054952623994, 3.7711157036143774, 3.84539013090253, 3.8150436244940193, 3.8361364777111095, 3.8368875434594045, 3.842512655545321, 3.8505741134208096, 3.866589430966605, 3.762591372788299, 3.78783367370123, 3.902970953218422, 3.8166485130943344, 3.80788334271633, 3.964064210902851, 3.8866844922947505, 3.7764236581755064, 3.7449604943646206, 3.614238454631384, 3.616775301309646, 3.7232841331455075, 3.6899122284618477, 3.7445797902982276, 3.6105382595749083, 3.6034045691758028, 3.77449017623866, 3.5495983860895963, 3.725296072862517, 3.582838073660691, 3.5319670431498333, 3.64885786287675, 3.5410312466381106, 3.693861596802363, 3.587219954164332, 3.611406119576167, 3.7221092630819985, 3.7006963084743396, 3.6481673739891405, 3.633063540834047, 3.6323933716836225, 3.6081733773490825, 3.653686764105558, 3.6063563521398274, 3.731176247332745, 3.915843931647904, 3.7552402255167783, 3.8368875434594045, 3.8000393904565484, 3.805886003808085, 3.804511710971924, 3.7733989605334024, 3.714253620813648, 3.705896846317255, 3.804916870126274, 3.8534432562459378, 3.75948458897269, 3.880296304127544, 3.5894067356753525, 3.7676858121844816, 3.70841718161595, 3.8300112504297794, 3.7591776908672143, 3.7439639848158146, 3.7625317503257305, 3.642530841079231, 3.696999745837114, 3.6877808290753724, 3.7675063631974233, 3.8455924403440087, 3.6615473780493346, 3.728715358991776, 3.6936012722394693, 3.740660436960379, 3.7240113116027045, 3.6809408163280866, 3.7446370509549984, 3.6920510036842193, 3.614168729357618, 3.6904273437837976, 3.6678565799698966, 3.793481714423645, 3.736268561805218, 3.7015458454402745, 3.6570526991110075, 3.8361364777111095, 3.795774030587758, 3.7294349068195904, 3.915843931647904, 3.902970953218422, 3.8072351725285656, 3.8620999494355095, 3.8183441527178097, 3.7729843007168227, 3.823225865031438, 3.7326677834064563, 3.850441826043915, 3.819272509386077, 3.8579367576796586, 3.762213350682734, 3.8059468084133234, 3.8963522463498528, 3.6953692655220487, 3.836684424951906, 3.568171175056516, 3.8537839206878863, 3.611528444042747, 3.6447766046945227, 3.591087725830696, 3.6127395088821657, 3.692607609051684, 3.691984864367485, 3.6886156274467727, 3.7857297943444723, 3.8679847787643773, 3.6838973628915936, 3.603045902537862, 3.768505120377595, 3.7709656619725895, 3.63790153288254, 3.777529575998073, 3.604329018308592, 3.899555181455813, 3.7072567633410496, 3.7367870710195716, 3.732253343322347, 3.76333346465449, 3.547010614001314, 3.663681492157847, 3.609157780792919, 3.759799398430319, 3.8515774254795554, 3.731565027401481, 3.8364035743635796, 3.9633382892078264, 3.781437151808865, 3.8487614185168053, 3.797058447353997, 3.7727196454982006, 3.887718973981574, 3.7686711677067932, 3.6171105156550225, 3.6890906232808183, 3.8264673993991973, 3.65095434375548, 3.785105781000392, 3.713252449200527, 3.624230067062059, 3.635144632696856, 3.630738054498169, 3.7419458608085643, 3.6235312968014814, 3.846968583973609, 3.787713139605573, 3.7642629765981783, 3.727117891291705, 3.6469187723976244, 3.735236123026649, 3.7921023410648096, 3.663780888547905, 3.6755976127499985, 3.69185886887817, 3.6425092058680053, 3.6457464096841843, 3.726068905872492, 3.7688546307035296, 3.787593360618492, 3.801216831757653, 3.715671906806479, 3.6803052520540662, 3.811408164463776, 3.8420219306046315, 3.752723826478157, 3.785247858393806, 3.867474173622123, 3.806624801284255, 3.786602716637439, 3.8449859693441755, 3.8037603151087613, 3.890066036592912, 3.857941305158458, 3.8659608306422575, 3.794916455568677, 3.733639313496836, 3.752723826478157, 3.560454785314084, 3.6890906232808183, 3.8218695040317163, 3.8264673993991973, 3.710807651683995, 3.6469187723976244, 3.787593360618492, 3.7267113249501254, 3.724664063098162, 3.6730617656678977, 3.7921023410648096, 3.7865463829548003, 3.7705185617079673, 3.705336943816371, 3.7393081348542903, 3.6081855039998736, 3.8027779163473507, 3.699366288601543, 3.764914585436011, 3.786602716637439, 3.7110706983573376, 3.7859512993256073, 3.677883720798747, 3.6665932102338896, 3.7600000439920804, 3.750093394327302, 3.787713139605573, 3.735710931288918, 3.806624801284255, 3.846968583973609, 3.776860290714874, 3.83360291282745, 3.8449859693441755, 3.8420219306046315, 3.8130631719547154], \"Category\": [\"Default\", \"Default\", \"Default\", \"Default\", \"Default\", \"Default\", \"Default\", \"Default\", \"Default\", \"Default\", \"Default\", \"Default\", \"Default\", \"Default\", \"Default\", \"Default\", \"Default\", \"Default\", \"Default\", \"Default\", \"Default\", \"Default\", \"Default\", \"Default\", \"Default\", \"Default\", \"Default\", \"Default\", \"Default\", \"Default\", \"Topic1\", \"Topic1\", \"Topic1\", \"Topic1\", \"Topic1\", \"Topic1\", \"Topic1\", \"Topic1\", \"Topic1\", \"Topic1\", \"Topic1\", \"Topic1\", \"Topic1\", \"Topic1\", \"Topic1\", \"Topic1\", \"Topic1\", \"Topic1\", \"Topic1\", \"Topic1\", \"Topic1\", \"Topic1\", \"Topic1\", \"Topic1\", \"Topic1\", \"Topic1\", \"Topic1\", \"Topic1\", \"Topic1\", \"Topic1\", \"Topic1\", \"Topic1\", \"Topic1\", \"Topic1\", \"Topic1\", \"Topic1\", \"Topic1\", \"Topic1\", \"Topic1\", \"Topic2\", \"Topic2\", \"Topic2\", \"Topic2\", \"Topic2\", \"Topic2\", \"Topic2\", \"Topic2\", \"Topic2\", \"Topic2\", \"Topic2\", \"Topic2\", \"Topic2\", \"Topic2\", \"Topic2\", \"Topic2\", \"Topic2\", \"Topic2\", \"Topic2\", \"Topic2\", \"Topic2\", \"Topic2\", \"Topic2\", \"Topic2\", \"Topic2\", \"Topic2\", \"Topic2\", \"Topic2\", \"Topic2\", \"Topic2\", \"Topic2\", \"Topic2\", \"Topic2\", \"Topic2\", \"Topic2\", \"Topic2\", \"Topic2\", \"Topic2\", \"Topic2\", \"Topic2\", \"Topic2\", \"Topic2\", \"Topic3\", \"Topic3\", \"Topic3\", \"Topic3\", \"Topic3\", \"Topic3\", \"Topic3\", \"Topic3\", \"Topic3\", \"Topic3\", \"Topic3\", \"Topic3\", \"Topic3\", \"Topic3\", \"Topic3\", \"Topic3\", \"Topic3\", \"Topic3\", \"Topic3\", \"Topic3\", \"Topic3\", \"Topic3\", \"Topic3\", \"Topic3\", \"Topic3\", \"Topic3\", \"Topic3\", \"Topic3\", \"Topic3\", \"Topic3\", \"Topic3\", \"Topic3\", \"Topic3\", \"Topic3\", \"Topic3\", \"Topic3\", \"Topic3\", \"Topic3\", \"Topic3\", \"Topic3\", \"Topic3\", \"Topic3\", \"Topic3\", \"Topic4\", \"Topic4\", \"Topic4\", \"Topic4\", \"Topic4\", \"Topic4\", \"Topic4\", \"Topic4\", \"Topic4\", \"Topic4\", \"Topic4\", \"Topic4\", \"Topic4\", \"Topic4\", \"Topic4\", \"Topic4\", \"Topic4\", \"Topic4\", \"Topic4\", \"Topic4\", \"Topic4\", \"Topic4\", \"Topic4\", \"Topic4\", \"Topic4\", \"Topic4\", \"Topic4\", \"Topic4\", \"Topic4\", \"Topic4\", \"Topic4\", \"Topic4\", \"Topic4\", \"Topic4\", \"Topic4\", \"Topic4\", \"Topic4\", \"Topic4\", \"Topic4\", \"Topic4\", \"Topic4\", \"Topic4\", \"Topic4\", \"Topic5\", \"Topic5\", \"Topic5\", \"Topic5\", \"Topic5\", \"Topic5\", \"Topic5\", \"Topic5\", \"Topic5\", \"Topic5\", \"Topic5\", \"Topic5\", \"Topic5\", \"Topic5\", \"Topic5\", \"Topic5\", \"Topic5\", \"Topic5\", \"Topic5\", \"Topic5\", \"Topic5\", \"Topic5\", \"Topic5\", \"Topic5\", \"Topic5\", \"Topic5\", \"Topic5\", \"Topic5\", \"Topic5\", \"Topic5\", \"Topic5\", \"Topic5\", \"Topic5\", \"Topic5\", \"Topic5\", \"Topic5\", \"Topic5\", \"Topic5\", \"Topic5\", \"Topic5\", \"Topic5\", \"Topic5\", \"Topic6\", \"Topic6\", \"Topic6\", \"Topic6\", \"Topic6\", \"Topic6\", \"Topic6\", \"Topic6\", \"Topic6\", \"Topic6\", \"Topic6\", \"Topic6\", \"Topic6\", \"Topic6\", \"Topic6\", \"Topic6\", \"Topic6\", \"Topic6\", \"Topic6\", \"Topic6\", \"Topic6\", \"Topic6\", \"Topic6\", \"Topic6\", \"Topic6\", \"Topic6\", \"Topic6\", \"Topic6\", \"Topic6\", \"Topic6\", \"Topic6\", \"Topic6\", \"Topic6\", \"Topic6\", \"Topic6\", \"Topic6\", \"Topic6\", \"Topic6\", \"Topic6\", \"Topic6\", \"Topic7\", \"Topic7\", \"Topic7\", \"Topic7\", \"Topic7\", \"Topic7\", \"Topic7\", \"Topic7\", \"Topic7\", \"Topic7\", \"Topic7\", \"Topic7\", \"Topic7\", \"Topic7\", \"Topic7\", \"Topic7\", \"Topic7\", \"Topic7\", \"Topic7\", \"Topic7\", \"Topic7\", \"Topic7\", \"Topic7\", \"Topic7\", \"Topic7\", \"Topic7\", \"Topic7\", \"Topic7\", \"Topic7\", \"Topic7\", \"Topic7\", \"Topic7\", \"Topic7\", \"Topic7\", \"Topic7\", \"Topic7\", \"Topic7\", \"Topic7\", \"Topic7\", \"Topic7\", \"Topic7\", \"Topic7\", \"Topic7\", \"Topic8\", \"Topic8\", \"Topic8\", \"Topic8\", \"Topic8\", \"Topic8\", \"Topic8\", \"Topic8\", \"Topic8\", \"Topic8\", \"Topic8\", \"Topic8\", \"Topic8\", \"Topic8\", \"Topic8\", \"Topic8\", \"Topic8\", \"Topic8\", \"Topic8\", \"Topic8\", \"Topic8\", \"Topic8\", \"Topic8\", \"Topic8\", \"Topic8\", \"Topic8\", \"Topic8\", \"Topic8\", \"Topic8\", \"Topic8\", \"Topic8\", \"Topic8\", \"Topic8\", \"Topic8\", \"Topic8\", \"Topic8\", \"Topic8\"], \"logprob\": [30.0, 29.0, 28.0, 27.0, 26.0, 25.0, 24.0, 23.0, 22.0, 21.0, 20.0, 19.0, 18.0, 17.0, 16.0, 15.0, 14.0, 13.0, 12.0, 11.0, 10.0, 9.0, 8.0, 7.0, 6.0, 5.0, 4.0, 3.0, 2.0, 1.0, -7.709, -7.6666, -7.6851, -7.72, -7.7001, -7.7166, -7.7775, -7.7312, -7.7494, -7.7604, -7.7527, -7.7562, -7.7645, -7.7518, -7.7688, -7.7769, -7.8004, -7.748, -7.7673, -7.7788, -7.8063, -7.7671, -7.793, -7.7757, -7.7884, -7.7501, -7.7978, -7.8063, -7.8293, -7.8183, -7.7695, -7.7724, -7.76, -7.7711, -7.7725, -7.7715, -7.7747, -7.7843, -7.7824, -7.6852, -7.7221, -7.6814, -7.719, -7.7039, -7.6792, -7.6612, -7.7155, -7.7891, -7.729, -7.7259, -7.7864, -7.7595, -7.779, -7.8018, -7.7952, -7.8234, -7.7787, -7.7844, -7.7811, -7.8051, -7.7945, -7.8116, -7.7883, -7.8068, -7.8078, -7.8228, -7.8033, -7.7972, -7.8161, -7.7524, -7.7903, -7.7713, -7.7985, -7.802, -7.7957, -7.7838, -7.7794, -7.7871, -7.7921, -7.7952, -7.7928, -7.7738, -7.7941, -7.7908, -7.7596, -7.7915, -7.7865, -7.8044, -7.8011, -7.8058, -7.7757, -7.8277, -7.7892, -7.8148, -7.8119, -7.8253, -7.8002, -7.8422, -7.7909, -7.7815, -7.8433, -7.8172, -7.8445, -7.8399, -7.841, -7.8377, -7.8574, -7.8386, -7.8415, -7.8119, -7.8569, -7.8254, -7.8078, -7.8154, -7.8112, -7.8112, -7.8108, -7.8114, -7.8087, -7.8289, -7.8252, -7.8089, -7.8212, -7.8242, -7.5333, -7.6761, -7.7257, -7.7459, -7.7858, -7.7898, -7.7642, -7.775, -7.7676, -7.8104, -7.8131, -7.767, -7.8285, -7.7815, -7.8208, -7.8353, -7.8043, -7.8352, -7.7936, -7.8275, -7.8211, -7.7934, -7.8003, -7.8164, -7.8208, -7.8219, -7.8312, -7.8207, -7.8344, -7.8025, -7.7553, -7.7971, -7.779, -7.7961, -7.796, -7.7962, -7.8011, -7.8096, -7.8112, -7.8012, -7.7988, -7.8141, -7.8126, -7.8391, -7.7959, -7.8168, -7.7854, -7.8044, -7.8154, -7.8117, -7.8465, -7.8324, -7.8359, -7.8173, -7.7979, -7.8471, -7.8308, -7.8436, -7.8315, -7.8361, -7.8479, -7.8316, -7.8465, -7.8685, -7.8477, -7.8544, -7.8222, -7.8377, -7.8477, -7.86, -7.8122, -7.8243, -7.8423, -7.7942, -7.8003, -7.8232, -7.8112, -7.8265, -7.835, -7.8299, -7.8418, -7.8297, -7.8357, -7.836, -7.8407, -7.6095, -7.6084, -7.6866, -7.6591, -7.7855, -7.7237, -7.7916, -7.783, -7.8036, -7.799, -7.7783, -7.7795, -7.7818, -7.7585, -7.7372, -7.7873, -7.81, -7.7657, -7.7666, -7.8051, -7.768, -7.8156, -7.7373, -7.7882, -7.7821, -7.7842, -7.7764, -7.8378, -7.8098, -7.8257, -7.7848, -7.7636, -7.7935, -7.7726, -7.7664, -7.7893, -7.7838, -7.7884, -7.7908, -7.789, -7.7111, -7.7955, -7.7798, -7.78, -7.8327, -7.7967, -7.8177, -7.8436, -7.8415, -7.848, -7.8225, -7.8585, -7.8001, -7.8164, -7.8227, -7.8326, -7.855, -7.8312, -7.8175, -7.8525, -7.8495, -7.8486, -7.8643, -7.8636, -7.842, -7.8307, -7.8265, -7.8236, -7.8469, -7.8591, -7.8245, -7.8201, -7.8398, -7.8336, -7.8216, -7.8314, -7.8349, -7.8284, -7.8365, -7.8306, -7.8348, -7.8356, -7.8384, -7.7288, -7.7279, -7.7942, -7.759, -7.7339, -7.7376, -7.7865, -7.8083, -7.7783, -7.7975, -7.7987, -7.8129, -7.785, -7.7919, -7.7967, -7.8196, -7.8121, -7.8483, -7.7977, -7.8266, -7.8097, -7.8042, -7.8251, -7.8051, -7.8404, -7.8448, -7.8212, -7.8241, -7.8143, -7.8282, -7.8095, -7.8041, -7.821, -7.8123, -7.8123, -7.8155, -7.8237], \"loglift\": [30.0, 29.0, 28.0, 27.0, 26.0, 25.0, 24.0, 23.0, 22.0, 21.0, 20.0, 19.0, 18.0, 17.0, 16.0, 15.0, 14.0, 13.0, 12.0, 11.0, 10.0, 9.0, 8.0, 7.0, 6.0, 5.0, 4.0, 3.0, 2.0, 1.0, 0.2239, 0.2176, 0.2128, 0.2091, 0.2088, 0.2063, 0.2057, 0.201, 0.1984, 0.1898, 0.1898, 0.1888, 0.1874, 0.1851, 0.1819, 0.1781, 0.1777, 0.1691, 0.1684, 0.1676, 0.1658, 0.1619, 0.1618, 0.1589, 0.1569, 0.1533, 0.1505, 0.1482, 0.147, 0.1463, 0.1435, 0.1434, 0.1396, 0.1411, 0.1409, 0.137, 0.1256, 0.1431, 0.1342, 0.2472, 0.2286, 0.2275, 0.2271, 0.2252, 0.2245, 0.2228, 0.2074, 0.2027, 0.2022, 0.1983, 0.1968, 0.1956, 0.1878, 0.1763, 0.1746, 0.171, 0.1663, 0.1658, 0.1642, 0.1597, 0.1593, 0.1569, 0.1567, 0.1535, 0.1531, 0.1529, 0.1519, 0.1508, 0.1506, 0.148, 0.1463, 0.1267, 0.1459, 0.1486, 0.1411, 0.125, 0.1168, 0.1264, 0.1302, 0.1366, 0.0913, 0.1623, 0.1479, 0.144, 0.1433, 0.1426, 0.1408, 0.1385, 0.1384, 0.1361, 0.1354, 0.1297, 0.1267, 0.1244, 0.124, 0.1225, 0.121, 0.1203, 0.1191, 0.118, 0.1168, 0.1166, 0.1163, 0.1149, 0.1149, 0.1135, 0.1124, 0.1115, 0.1101, 0.1096, 0.1094, 0.1084, 0.1066, 0.1069, 0.1055, 0.1054, 0.1043, 0.1016, 0.1001, 0.1072, 0.1043, 0.0906, 0.1007, 0.0999, 0.3507, 0.2276, 0.2067, 0.1949, 0.1905, 0.1859, 0.1824, 0.1806, 0.1733, 0.167, 0.1662, 0.1659, 0.1659, 0.1646, 0.1643, 0.1641, 0.1625, 0.1616, 0.1609, 0.1563, 0.156, 0.1535, 0.1524, 0.1506, 0.1503, 0.1495, 0.1468, 0.1448, 0.1441, 0.142, 0.1409, 0.1409, 0.1376, 0.1301, 0.1287, 0.1288, 0.1321, 0.1395, 0.1401, 0.1237, 0.1135, 0.1228, 0.0927, 0.1441, 0.1388, 0.1338, 0.133, 0.1326, 0.1257, 0.1244, 0.1221, 0.1213, 0.1203, 0.1175, 0.1164, 0.1163, 0.1143, 0.111, 0.1105, 0.1103, 0.1101, 0.1093, 0.1085, 0.1078, 0.1077, 0.1072, 0.1057, 0.1055, 0.1047, 0.1046, 0.1046, 0.1031, 0.1027, 0.102, 0.0992, 0.1011, 0.0988, 0.0949, 0.0984, 0.0902, 0.1023, 0.0833, 0.0854, 0.0751, 0.0955, 0.3151, 0.2928, 0.2675, 0.2575, 0.2036, 0.1885, 0.1855, 0.1849, 0.1792, 0.1778, 0.1766, 0.1756, 0.1742, 0.1715, 0.1713, 0.1699, 0.1695, 0.1688, 0.1673, 0.1647, 0.1642, 0.1635, 0.163, 0.1627, 0.1609, 0.16, 0.1595, 0.1573, 0.1529, 0.152, 0.152, 0.1491, 0.1509, 0.1441, 0.1177, 0.1419, 0.1297, 0.1386, 0.1426, 0.1144, 0.2234, 0.1801, 0.1761, 0.1393, 0.1335, 0.1334, 0.1317, 0.13, 0.1291, 0.1237, 0.1191, 0.1153, 0.1138, 0.1131, 0.113, 0.113, 0.1124, 0.1122, 0.1108, 0.1102, 0.1101, 0.1065, 0.1042, 0.1041, 0.1038, 0.1038, 0.103, 0.1023, 0.1018, 0.0991, 0.0988, 0.0951, 0.0989, 0.0965, 0.087, 0.0931, 0.0948, 0.0861, 0.0887, 0.0722, 0.0763, 0.0734, 0.0891, 0.2151, 0.2109, 0.1972, 0.1968, 0.1866, 0.1816, 0.1634, 0.1591, 0.1512, 0.1482, 0.1475, 0.1473, 0.1433, 0.1379, 0.1374, 0.1318, 0.1303, 0.1297, 0.1277, 0.1265, 0.1258, 0.1256, 0.1248, 0.1248, 0.1185, 0.1172, 0.1156, 0.1154, 0.1152, 0.1151, 0.115, 0.1098, 0.1114, 0.1051, 0.1022, 0.0997, 0.0991]}, \"token.table\": {\"Topic\": [1, 2, 3, 6, 1, 2, 4, 2, 3, 1, 2, 3, 2, 3, 4, 1, 3, 1, 2, 3, 4, 6, 1, 2, 3, 4, 2, 3, 4, 1, 2, 3, 4, 1, 2, 3, 4, 1, 2, 4, 1, 2, 3, 1, 2, 4, 1, 2, 3, 4, 1, 2, 3, 1, 2, 4, 1, 3, 1, 2, 3, 1, 2, 3, 4, 1, 2, 3, 4, 1, 2, 3, 1, 2, 3, 4, 1, 2, 3, 1, 2, 3, 4, 1, 1, 2, 3, 1, 3, 4, 1, 2, 1, 2, 3, 4, 3, 1, 2, 4, 1, 2, 1, 2, 3, 1, 2, 3, 1, 2, 4, 1, 2, 3, 4, 1, 2, 3, 1, 2, 4, 1, 2, 4, 1, 2, 3, 1, 2, 3, 4, 2, 3, 4, 1, 2, 3, 4, 2, 4, 1, 2, 3, 2, 3, 4, 2, 2, 3, 4, 1, 2, 3, 1, 2, 3, 4, 1, 2, 3, 4, 1, 2, 4, 2, 4, 1, 2, 3, 4, 1, 2, 3, 4, 1, 2, 3, 1, 2, 3, 4, 6, 1, 2, 3, 4, 6, 2, 4, 1, 2, 4, 6, 2, 4, 1, 2, 3, 6, 1, 2, 4, 1, 2, 3, 4, 2, 3, 4, 1, 2, 3, 1, 2, 3, 4, 1, 2, 4, 2, 4, 1, 2, 4, 1, 2, 1, 2, 4, 1, 2, 3, 4, 6, 1, 2, 3, 4, 1, 2, 3, 4, 1, 2, 1, 2, 3, 1, 2, 3, 4, 1, 2, 3, 5, 2, 4, 1, 2, 4, 1, 2, 4, 1, 6, 1, 2, 1, 2, 4, 1, 2, 3, 1, 2, 4, 1, 2, 3, 4, 1, 4, 1, 2, 3, 4, 6, 1, 2, 4, 1, 2, 3, 4, 1, 3, 1, 2, 3, 4, 1, 2, 4, 1, 2, 6, 1, 2, 4, 1, 2, 3, 1, 3, 1, 2, 3, 4, 6, 1, 2, 4, 1, 2, 4, 1, 2, 3, 1, 3, 4, 1, 2, 3, 4, 1, 2, 3, 4, 1, 3, 4, 1, 2, 3, 4, 1, 2, 3, 4, 6, 2, 4, 1, 2, 3, 1, 2, 3, 4, 1, 2, 3, 4, 1, 2, 1, 2, 3, 4, 1, 2, 3, 4, 5, 2, 3, 4, 1, 2, 4, 1, 2, 1, 2, 4, 1, 2, 4, 2, 1, 2, 3, 2, 3, 4, 2, 3, 4, 1, 2, 6, 1, 2, 3, 4, 1, 2, 3, 4, 1, 2, 3, 4, 2, 3, 4, 1, 2, 3, 1, 2, 3, 1, 2, 4, 6, 1, 2, 3, 6, 1, 2, 3, 4, 1, 2, 3, 1, 2, 3, 4, 1, 2, 3, 4, 1, 2, 4, 1, 2, 3, 4, 2, 4, 1, 2, 3, 4, 1, 2, 3, 4, 2, 4, 1, 2, 3, 2, 3, 4, 2, 3, 1, 2, 4, 1, 2, 4, 1, 2, 3, 4, 1, 2, 3, 4, 6, 1, 3, 1, 2, 1, 2, 1, 2, 3, 4, 1, 2, 3, 2, 4, 1, 2, 3, 4, 6, 1, 2, 3, 4, 1, 2, 4, 1, 2, 3, 4, 2, 3, 4, 1, 2, 3, 4, 1, 2, 4, 1, 2, 3, 4, 1, 2, 6, 1, 2, 3, 4, 7, 1, 2, 4, 1, 2, 3, 4, 6, 1, 2, 1, 2, 4, 1, 2, 3, 4, 1, 2, 3, 1, 2, 4, 1, 2, 4, 2, 4, 1, 2, 4, 1, 2, 3, 4, 5, 1, 2, 3, 1, 2, 3, 4, 1, 2, 3, 4, 6, 1, 2, 6, 1, 2, 4, 1, 2, 4, 2, 4, 1, 2, 3, 2, 3, 4, 2, 4, 1, 2, 3, 1, 2, 3, 4, 1, 2, 4, 1, 2, 3, 4, 6, 1, 2, 3, 4, 6, 1, 2, 3, 4, 1, 2, 3, 1, 2, 3, 1, 2, 3, 4, 1, 2, 1, 2, 4, 6, 1, 2, 3, 1, 2, 1, 2, 3, 4, 1, 2, 3, 4, 6, 2, 4, 1, 2, 3, 4, 5, 1, 2, 3, 1, 2, 4, 1, 2, 3, 4, 1, 2, 4, 6, 1, 2, 4, 6, 2, 4, 1, 2, 3, 1, 2, 3, 1, 2, 3, 1, 2, 4, 1, 2, 4, 1, 2, 1, 2, 1, 2, 3, 1, 2, 3, 4, 1, 2, 3, 4, 1, 2, 4, 1, 2, 3, 4, 1, 1, 2, 3, 4, 6, 1, 2, 3, 2, 4, 2, 6, 1, 2, 3, 4, 1, 3, 1, 2, 3, 4, 1, 2, 3, 4, 2, 3, 4, 1, 2, 3, 4, 1, 2, 3, 4, 1, 2, 3, 4, 1, 2, 3, 4, 2, 4, 1, 2, 3, 4, 1, 2, 4, 1, 2, 3, 2, 3, 4, 1, 2, 3, 4, 1, 3, 1, 2, 3, 4, 1, 2, 3, 4, 2, 4, 1, 3, 1, 2, 3, 4, 1, 2, 3, 1, 1, 2, 3, 4, 1, 2, 4, 1, 2, 1, 2, 3, 4, 2, 4, 1, 2, 3, 6, 1, 2, 4, 1, 2, 4, 6, 1, 2, 4, 6, 1, 2, 4, 6, 1, 2, 3, 4, 5, 1, 2, 3, 4, 1, 2, 3, 4, 1, 2, 3, 2, 4, 2, 3, 4, 1, 2, 3, 4, 5, 2, 4, 1, 2, 4, 1, 2, 3, 6, 2, 4], \"Freq\": [0.2607725656192096, 0.2607725656192096, 0.2607725656192096, 0.2607725656192096, 0.2640115455269491, 0.2640115455269491, 0.2640115455269491, 0.2729420864456602, 0.2729420864456602, 0.26561027542785304, 0.26561027542785304, 0.26561027542785304, 0.26599390856214633, 0.26599390856214633, 0.26599390856214633, 0.2726387954918912, 0.2726387954918912, 0.265060776830648, 0.265060776830648, 0.265060776830648, 0.265060776830648, 0.265060776830648, 0.2653326004811522, 0.2653326004811522, 0.2653326004811522, 0.2653326004811522, 0.26704857811118676, 0.26704857811118676, 0.26704857811118676, 0.26261294058716006, 0.26261294058716006, 0.26261294058716006, 0.26261294058716006, 0.260627914858923, 0.260627914858923, 0.260627914858923, 0.260627914858923, 0.2648007984578529, 0.2648007984578529, 0.2648007984578529, 0.2634652090464219, 0.2634652090464219, 0.2634652090464219, 0.271716591834842, 0.271716591834842, 0.271716591834842, 0.2708008934065953, 0.2708008934065953, 0.2708008934065953, 0.2708008934065953, 0.26893381143549266, 0.26893381143549266, 0.26893381143549266, 0.26830382863296837, 0.26830382863296837, 0.26830382863296837, 0.2739046522287829, 0.2739046522287829, 0.27166967628606087, 0.27166967628606087, 0.27166967628606087, 0.2656562536190591, 0.2656562536190591, 0.2656562536190591, 0.2656562536190591, 0.2571062091522217, 0.2571062091522217, 0.2571062091522217, 0.2571062091522217, 0.268480588600574, 0.268480588600574, 0.268480588600574, 0.26866486965295994, 0.26866486965295994, 0.26866486965295994, 0.26866486965295994, 0.2688873891833639, 0.2688873891833639, 0.2688873891833639, 0.2707025766224446, 0.2707025766224446, 0.2707025766224446, 0.2707025766224446, 0.28086299652637925, 0.2707647658108961, 0.2707647658108961, 0.2707647658108961, 0.2676640567166322, 0.2676640567166322, 0.2676640567166322, 0.27707295184537584, 0.27707295184537584, 0.2644771246897645, 0.2644771246897645, 0.2644771246897645, 0.2644771246897645, 0.27106951336171575, 0.2771485445454669, 0.2771485445454669, 0.2771485445454669, 0.2755067024703619, 0.2755067024703619, 0.26742915104506815, 0.26742915104506815, 0.26742915104506815, 0.2650421841962109, 0.2650421841962109, 0.2650421841962109, 0.2628977425385981, 0.2628977425385981, 0.2628977425385981, 0.2558235110135051, 0.2558235110135051, 0.2558235110135051, 0.2558235110135051, 0.2674873465896147, 0.2674873465896147, 0.2674873465896147, 0.27351503993991266, 0.27351503993991266, 0.27351503993991266, 0.2696767058572746, 0.2696767058572746, 0.2696767058572746, 0.2673188784971375, 0.2673188784971375, 0.2673188784971375, 0.2572886999144061, 0.2572886999144061, 0.2572886999144061, 0.2572886999144061, 0.27648939087753027, 0.27648939087753027, 0.27648939087753027, 0.26189362718607306, 0.26189362718607306, 0.26189362718607306, 0.26189362718607306, 0.2734442411078981, 0.2734442411078981, 0.26261308711381276, 0.26261308711381276, 0.26261308711381276, 0.26464358673907706, 0.26464358673907706, 0.26464358673907706, 0.27243466336001, 0.2678351913600953, 0.2678351913600953, 0.2678351913600953, 0.26067894242299366, 0.26067894242299366, 0.26067894242299366, 0.25862585564198654, 0.25862585564198654, 0.25862585564198654, 0.25862585564198654, 0.265800981174693, 0.265800981174693, 0.265800981174693, 0.265800981174693, 0.26954303891714765, 0.26954303891714765, 0.26954303891714765, 0.2766834597530699, 0.2766834597530699, 0.26571940473277483, 0.26571940473277483, 0.26571940473277483, 0.26571940473277483, 0.2615592265019836, 0.2615592265019836, 0.2615592265019836, 0.2615592265019836, 0.26542755435489584, 0.26542755435489584, 0.26542755435489584, 0.26572186849559704, 0.26572186849559704, 0.26572186849559704, 0.26572186849559704, 0.26572186849559704, 0.25948522817581937, 0.25948522817581937, 0.25948522817581937, 0.25948522817581937, 0.25948522817581937, 0.2691307552316144, 0.2691307552316144, 0.2679346518073792, 0.2679346518073792, 0.2679346518073792, 0.2679346518073792, 0.27488374574218793, 0.27488374574218793, 0.27436523783432604, 0.27436523783432604, 0.27436523783432604, 0.27436523783432604, 0.2640198946374501, 0.2640198946374501, 0.2640198946374501, 0.2710939496427153, 0.2710939496427153, 0.2710939496427153, 0.2710939496427153, 0.26629454840332745, 0.26629454840332745, 0.26629454840332745, 0.26965682419911774, 0.26965682419911774, 0.26965682419911774, 0.26852764836786425, 0.26852764836786425, 0.26852764836786425, 0.26852764836786425, 0.2681371373908188, 0.2681371373908188, 0.2681371373908188, 0.2831283496655147, 0.2831283496655147, 0.26493644262084587, 0.26493644262084587, 0.26493644262084587, 0.26905259511216634, 0.26905259511216634, 0.26595744369680285, 0.26595744369680285, 0.26595744369680285, 0.25963388231134704, 0.25963388231134704, 0.25963388231134704, 0.25963388231134704, 0.25963388231134704, 0.26046633854950635, 0.26046633854950635, 0.26046633854950635, 0.26046633854950635, 0.2640031443151683, 0.2640031443151683, 0.2640031443151683, 0.2640031443151683, 0.2766655657970601, 0.2766655657970601, 0.26851377230736906, 0.26851377230736906, 0.26851377230736906, 0.259508168020673, 0.259508168020673, 0.259508168020673, 0.259508168020673, 0.26601562422267605, 0.26601562422267605, 0.26601562422267605, 0.26601562422267605, 0.2707194013077432, 0.2707194013077432, 0.2722524323840667, 0.2722524323840667, 0.2722524323840667, 0.2683330992945591, 0.2683330992945591, 0.2683330992945591, 0.2767982572619565, 0.2767982572619565, 0.2771867458399268, 0.2771867458399268, 0.2647701855582068, 0.2647701855582068, 0.2647701855582068, 0.27048960474666445, 0.27048960474666445, 0.27048960474666445, 0.2705139784173792, 0.2705139784173792, 0.2705139784173792, 0.26192871338725, 0.26192871338725, 0.26192871338725, 0.26192871338725, 0.26647311292781073, 0.26647311292781073, 0.2711044199235775, 0.2711044199235775, 0.2711044199235775, 0.2711044199235775, 0.2711044199235775, 0.27206460155790085, 0.27206460155790085, 0.27206460155790085, 0.2616520524693722, 0.2616520524693722, 0.2616520524693722, 0.2616520524693722, 0.27097132847891253, 0.27097132847891253, 0.2562226295556018, 0.2562226295556018, 0.2562226295556018, 0.2562226295556018, 0.26837936314702726, 0.26837936314702726, 0.26837936314702726, 0.27085701505748755, 0.27085701505748755, 0.27085701505748755, 0.26315516689416657, 0.26315516689416657, 0.26315516689416657, 0.2604174080164018, 0.2604174080164018, 0.2604174080164018, 0.2745343948010922, 0.2745343948010922, 0.2523125524568521, 0.2523125524568521, 0.2523125524568521, 0.2523125524568521, 0.2523125524568521, 0.2740583595140652, 0.2740583595140652, 0.2740583595140652, 0.2688947282072922, 0.2688947282072922, 0.2688947282072922, 0.2608512208330039, 0.2608512208330039, 0.2608512208330039, 0.27031656829473516, 0.27031656829473516, 0.27031656829473516, 0.27221289678862703, 0.27221289678862703, 0.27221289678862703, 0.27221289678862703, 0.26345087772391834, 0.26345087772391834, 0.26345087772391834, 0.26345087772391834, 0.2711657894947969, 0.2711657894947969, 0.2711657894947969, 0.26815826940175425, 0.26815826940175425, 0.26815826940175425, 0.26815826940175425, 0.2659716367893166, 0.2659716367893166, 0.2659716367893166, 0.2659716367893166, 0.2659716367893166, 0.2670526617141085, 0.2670526617141085, 0.26577848809207466, 0.26577848809207466, 0.26577848809207466, 0.2586679078778635, 0.2586679078778635, 0.2586679078778635, 0.2586679078778635, 0.2709163807494747, 0.2709163807494747, 0.2709163807494747, 0.2709163807494747, 0.27846715991007387, 0.27846715991007387, 0.26005163740442006, 0.26005163740442006, 0.26005163740442006, 0.26005163740442006, 0.2610958387884073, 0.2610958387884073, 0.2610958387884073, 0.2610958387884073, 0.2610958387884073, 0.28172201224760157, 0.28172201224760157, 0.28172201224760157, 0.2694427748484117, 0.27276141659671543, 0.27276141659671543, 0.2708662588458767, 0.2708662588458767, 0.26133765053297264, 0.26133765053297264, 0.26133765053297264, 0.26923309555283925, 0.26923309555283925, 0.26923309555283925, 0.27646376732807953, 0.2666808035586887, 0.2666808035586887, 0.2666808035586887, 0.27751532774148846, 0.27751532774148846, 0.27751532774148846, 0.2710091563388903, 0.2710091563388903, 0.2710091563388903, 0.27689107686511794, 0.27689107686511794, 0.27689107686511794, 0.2708521629311516, 0.2708521629311516, 0.2708521629311516, 0.2708521629311516, 0.2628458199027422, 0.2628458199027422, 0.2628458199027422, 0.2628458199027422, 0.2679049028808542, 0.2679049028808542, 0.2679049028808542, 0.2679049028808542, 0.2637059630936024, 0.2637059630936024, 0.2637059630936024, 0.26418349270906927, 0.26418349270906927, 0.26418349270906927, 0.26237022036202967, 0.26237022036202967, 0.26237022036202967, 0.26974123019706386, 0.26974123019706386, 0.26974123019706386, 0.26974123019706386, 0.26760957501577765, 0.26760957501577765, 0.26760957501577765, 0.26760957501577765, 0.2592059079271808, 0.2592059079271808, 0.2592059079271808, 0.2592059079271808, 0.27288626344478745, 0.27288626344478745, 0.27288626344478745, 0.2670965864136632, 0.2670965864136632, 0.2670965864136632, 0.2670965864136632, 0.2698402145202052, 0.2698402145202052, 0.2698402145202052, 0.2698402145202052, 0.26007897245215855, 0.26007897245215855, 0.26007897245215855, 0.2675666642861338, 0.2675666642861338, 0.2675666642861338, 0.2742040781299227, 0.27696701380966293, 0.27696701380966293, 0.2651735132500875, 0.2651735132500875, 0.2651735132500875, 0.2651735132500875, 0.2673412933394754, 0.2673412933394754, 0.2673412933394754, 0.2673412933394754, 0.2729494914174476, 0.2729494914174476, 0.26952096337135983, 0.26952096337135983, 0.26952096337135983, 0.2640928959701949, 0.2640928959701949, 0.2640928959701949, 0.2657518493681656, 0.2657518493681656, 0.2684350399112305, 0.2684350399112305, 0.2684350399112305, 0.2522663475656064, 0.2522663475656064, 0.2522663475656064, 0.2592056023928873, 0.2592056023928873, 0.2592056023928873, 0.2592056023928873, 0.2651840641468214, 0.2651840641468214, 0.2651840641468214, 0.2651840641468214, 0.2651840641468214, 0.2726887929741317, 0.2726887929741317, 0.26988098927652016, 0.26988098927652016, 0.26768666483918063, 0.26768666483918063, 0.2734738271506963, 0.2734738271506963, 0.2734738271506963, 0.2734738271506963, 0.2638913207121615, 0.2638913207121615, 0.2638913207121615, 0.27910834356470665, 0.27910834356470665, 0.26414986127480805, 0.26414986127480805, 0.26414986127480805, 0.26414986127480805, 0.26414986127480805, 0.257065044807271, 0.257065044807271, 0.257065044807271, 0.257065044807271, 0.26225634218574023, 0.26225634218574023, 0.26225634218574023, 0.2659010490763056, 0.2659010490763056, 0.2659010490763056, 0.2659010490763056, 0.26733247159225965, 0.26733247159225965, 0.26733247159225965, 0.2629656587888575, 0.2629656587888575, 0.2629656587888575, 0.2629656587888575, 0.2668811772543509, 0.2668811772543509, 0.2668811772543509, 0.2650130586400123, 0.2650130586400123, 0.2650130586400123, 0.2650130586400123, 0.27145164522582466, 0.27145164522582466, 0.27145164522582466, 0.26534551715969745, 0.26534551715969745, 0.26534551715969745, 0.26534551715969745, 0.26534551715969745, 0.27390098748026803, 0.27390098748026803, 0.27390098748026803, 0.26336176118038324, 0.26336176118038324, 0.26336176118038324, 0.26336176118038324, 0.26336176118038324, 0.2759206732178122, 0.2759206732178122, 0.2677206920963549, 0.2677206920963549, 0.2677206920963549, 0.2641934090771178, 0.2641934090771178, 0.2641934090771178, 0.2641934090771178, 0.26492331733475444, 0.26492331733475444, 0.26492331733475444, 0.25864996905111526, 0.25864996905111526, 0.25864996905111526, 0.2809853939397637, 0.2809853939397637, 0.2809853939397637, 0.2741102305584559, 0.2741102305584559, 0.26392543759434556, 0.26392543759434556, 0.26392543759434556, 0.2562150761525375, 0.2562150761525375, 0.2562150761525375, 0.2562150761525375, 0.2562150761525375, 0.2626577961917316, 0.2626577961917316, 0.2626577961917316, 0.2589264941592621, 0.2589264941592621, 0.2589264941592621, 0.2589264941592621, 0.2572202380605352, 0.2572202380605352, 0.2572202380605352, 0.2572202380605352, 0.2572202380605352, 0.26798407441833105, 0.26798407441833105, 0.26798407441833105, 0.25994493538782176, 0.25994493538782176, 0.25994493538782176, 0.28192754655219915, 0.28192754655219915, 0.28192754655219915, 0.2693056865054523, 0.2693056865054523, 0.2724087988123435, 0.2724087988123435, 0.2724087988123435, 0.2685800933368948, 0.2685800933368948, 0.2685800933368948, 0.2775429531152057, 0.2775429531152057, 0.26991736454914456, 0.26991736454914456, 0.26991736454914456, 0.2676467131465623, 0.2676467131465623, 0.2676467131465623, 0.2676467131465623, 0.2602796178840725, 0.2602796178840725, 0.2602796178840725, 0.25665030694717383, 0.25665030694717383, 0.25665030694717383, 0.25665030694717383, 0.25665030694717383, 0.2644497210595305, 0.2644497210595305, 0.2644497210595305, 0.2644497210595305, 0.2644497210595305, 0.2715091360204341, 0.2715091360204341, 0.2715091360204341, 0.2715091360204341, 0.25971045536543963, 0.25971045536543963, 0.25971045536543963, 0.2682211092330672, 0.2682211092330672, 0.2682211092330672, 0.262750907147356, 0.262750907147356, 0.262750907147356, 0.262750907147356, 0.27858620981075083, 0.27858620981075083, 0.2606607935313192, 0.2606607935313192, 0.2606607935313192, 0.2606607935313192, 0.270023439283317, 0.270023439283317, 0.270023439283317, 0.2708460217794083, 0.2708460217794083, 0.26596119164977894, 0.26596119164977894, 0.26596119164977894, 0.26596119164977894, 0.2606417128019423, 0.2606417128019423, 0.2606417128019423, 0.2606417128019423, 0.2606417128019423, 0.278767405617021, 0.278767405617021, 0.2600379565730956, 0.2600379565730956, 0.2600379565730956, 0.2600379565730956, 0.2600379565730956, 0.26813992956738647, 0.26813992956738647, 0.26813992956738647, 0.2718954909707761, 0.2718954909707761, 0.2718954909707761, 0.2634381710968136, 0.2634381710968136, 0.2634381710968136, 0.2634381710968136, 0.26274670938370104, 0.26274670938370104, 0.26274670938370104, 0.26274670938370104, 0.27060895086454345, 0.27060895086454345, 0.27060895086454345, 0.27060895086454345, 0.26946401221691585, 0.26946401221691585, 0.265774276535095, 0.265774276535095, 0.265774276535095, 0.26514281553662383, 0.26514281553662383, 0.26514281553662383, 0.26568025926382743, 0.26568025926382743, 0.26568025926382743, 0.2652155091227082, 0.2652155091227082, 0.2652155091227082, 0.27429225393837137, 0.27429225393837137, 0.27429225393837137, 0.26965010787307686, 0.26965010787307686, 0.2722973280023379, 0.2722973280023379, 0.2652321129297691, 0.2652321129297691, 0.2652321129297691, 0.266578147743019, 0.266578147743019, 0.266578147743019, 0.266578147743019, 0.26351041233927447, 0.26351041233927447, 0.26351041233927447, 0.26351041233927447, 0.2622912393549851, 0.2622912393549851, 0.2622912393549851, 0.27668879758630965, 0.27668879758630965, 0.27668879758630965, 0.27668879758630965, 0.2750922180661945, 0.2598238475341424, 0.2598238475341424, 0.2598238475341424, 0.2598238475341424, 0.2598238475341424, 0.2621202005606496, 0.2621202005606496, 0.2621202005606496, 0.2666600254576811, 0.2666600254576811, 0.2802556130127813, 0.2802556130127813, 0.275973882406565, 0.273696149824383, 0.273696149824383, 0.273696149824383, 0.2707384815778151, 0.2707384815778151, 0.27690045563675336, 0.27690045563675336, 0.27690045563675336, 0.27690045563675336, 0.27451938006980925, 0.27451938006980925, 0.27451938006980925, 0.27451938006980925, 0.276495143390597, 0.276495143390597, 0.276495143390597, 0.26024637773329135, 0.26024637773329135, 0.26024637773329135, 0.26024637773329135, 0.2620099798472806, 0.2620099798472806, 0.2620099798472806, 0.2620099798472806, 0.26182996828386657, 0.26182996828386657, 0.26182996828386657, 0.26182996828386657, 0.27485966854085275, 0.27485966854085275, 0.27485966854085275, 0.27485966854085275, 0.2702194172783292, 0.2702194172783292, 0.25970153295182535, 0.25970153295182535, 0.25970153295182535, 0.25970153295182535, 0.25856669110305647, 0.25856669110305647, 0.25856669110305647, 0.26980895353955875, 0.26980895353955875, 0.26980895353955875, 0.2691303282639595, 0.2691303282639595, 0.2691303282639595, 0.2672406382127396, 0.2672406382127396, 0.2672406382127396, 0.2672406382127396, 0.27453602543791, 0.27453602543791, 0.26413440663595705, 0.26413440663595705, 0.26413440663595705, 0.26413440663595705, 0.2752497964212398, 0.2752497964212398, 0.2752497964212398, 0.2752497964212398, 0.2680119977486607, 0.2680119977486607, 0.2727327365383439, 0.2727327365383439, 0.2731085786285096, 0.2731085786285096, 0.2731085786285096, 0.2731085786285096, 0.270157399571815, 0.270157399571815, 0.270157399571815, 0.27542609381061983, 0.26408896703270085, 0.26408896703270085, 0.26408896703270085, 0.26408896703270085, 0.2628178312780886, 0.2628178312780886, 0.2628178312780886, 0.2774441497766681, 0.2774441497766681, 0.27401280274217554, 0.27401280274217554, 0.27401280274217554, 0.27401280274217554, 0.27728818296246605, 0.27728818296246605, 0.264723274796806, 0.264723274796806, 0.264723274796806, 0.264723274796806, 0.26307365358518836, 0.26307365358518836, 0.26307365358518836, 0.25643950488390627, 0.25643950488390627, 0.25643950488390627, 0.25643950488390627, 0.27081133601867186, 0.27081133601867186, 0.27081133601867186, 0.27081133601867186, 0.2653572087756119, 0.2653572087756119, 0.2653572087756119, 0.2653572087756119, 0.2553727925461958, 0.2553727925461958, 0.2553727925461958, 0.2553727925461958, 0.2553727925461958, 0.2636100751976164, 0.2636100751976164, 0.2636100751976164, 0.2636100751976164, 0.2577122780382213, 0.2577122780382213, 0.2577122780382213, 0.2577122780382213, 0.2681888810816588, 0.2681888810816588, 0.2681888810816588, 0.2694831136144154, 0.2694831136144154, 0.2670255137550289, 0.2670255137550289, 0.2670255137550289, 0.2654149124552947, 0.2654149124552947, 0.2654149124552947, 0.2654149124552947, 0.2654149124552947, 0.2753005794459144, 0.2753005794459144, 0.26269991191740943, 0.26269991191740943, 0.26269991191740943, 0.2585325582174211, 0.2585325582174211, 0.2585325582174211, 0.2585325582174211, 0.28240360797420516, 0.28240360797420516], \"Term\": [\"\\uac00\\ub09c\", \"\\uac00\\ub09c\", \"\\uac00\\ub09c\", \"\\uac00\\ub09c\", \"\\uac00\\uc6b4\\ub370\", \"\\uac00\\uc6b4\\ub370\", \"\\uac00\\uc6b4\\ub370\", \"\\uac00\\uc744\", \"\\uac00\\uc744\", \"\\uac04\\uc12d\", \"\\uac04\\uc12d\", \"\\uac04\\uc12d\", \"\\uac04\\ud638\\uc0ac\", \"\\uac04\\ud638\\uc0ac\", \"\\uac04\\ud638\\uc0ac\", \"\\uac15\\ub3c4\", \"\\uac15\\ub3c4\", \"\\uac1c\\ubd88\", \"\\uac1c\\ubd88\", \"\\uac1c\\ubd88\", \"\\uac1c\\ubd88\", \"\\uac1c\\ubd88\", \"\\uac70\\uc9d3\\uaf34\", \"\\uac70\\uc9d3\\uaf34\", \"\\uac70\\uc9d3\\uaf34\", \"\\uac70\\uc9d3\\uaf34\", \"\\uac74\\ub370\", \"\\uac74\\ub370\", \"\\uac74\\ub370\", \"\\uac8c\\uc774\", \"\\uac8c\\uc774\", \"\\uac8c\\uc774\", \"\\uac8c\\uc774\", \"\\uac8c\\uc784\", \"\\uac8c\\uc784\", \"\\uac8c\\uc784\", \"\\uac8c\\uc784\", \"\\uacb0\\ud63c\", \"\\uacb0\\ud63c\", \"\\uacb0\\ud63c\", \"\\uacbd\\uc0c1\\ub3c4\", \"\\uacbd\\uc0c1\\ub3c4\", \"\\uacbd\\uc0c1\\ub3c4\", \"\\uacbd\\uc81c\", \"\\uacbd\\uc81c\", \"\\uacbd\\uc81c\", \"\\uacbd\\ucc30\", \"\\uacbd\\ucc30\", \"\\uacbd\\ucc30\", \"\\uacbd\\ucc30\", \"\\uacc4\\uc9d1\", \"\\uacc4\\uc9d1\", \"\\uacc4\\uc9d1\", \"\\uace0\\ub9c8\\uc6c0\", \"\\uace0\\ub9c8\\uc6c0\", \"\\uace0\\ub9c8\\uc6c0\", \"\\uace0\\uc544\\uc6d0\", \"\\uace0\\uc544\\uc6d0\", \"\\uace0\\uc9d1\", \"\\uace0\\uc9d1\", \"\\uace0\\uc9d1\", \"\\uacf5\\uae30\\uc5c5\", \"\\uacf5\\uae30\\uc5c5\", \"\\uacf5\\uae30\\uc5c5\", \"\\uacf5\\uae30\\uc5c5\", \"\\uacf5\\ubd80\", \"\\uacf5\\ubd80\", \"\\uacf5\\ubd80\", \"\\uacf5\\ubd80\", \"\\uad00\\uacc4\", \"\\uad00\\uacc4\", \"\\uad00\\uacc4\", \"\\uad00\\ub9ac\", \"\\uad00\\ub9ac\", \"\\uad00\\ub9ac\", \"\\uad00\\ub9ac\", \"\\uad00\\uc0c1\", \"\\uad00\\uc0c1\", \"\\uad00\\uc0c1\", \"\\uad50\\uc721\", \"\\uad50\\uc721\", \"\\uad50\\uc721\", \"\\uad50\\uc721\", \"\\uad6c\\ub9bc\", \"\\uad6d\\uac00\", \"\\uad6d\\uac00\", \"\\uad6d\\uac00\", \"\\uad6d\\ubb3c\", \"\\uad6d\\ubb3c\", \"\\uad6d\\ubb3c\", \"\\uad6d\\uc801\", \"\\uad6d\\uc801\", \"\\uad70\\ub300\", \"\\uad70\\ub300\", \"\\uad70\\ub300\", \"\\uad70\\ub300\", \"\\uad70\\uce68\", \"\\uae30\\uacc4\", \"\\uae30\\uacc4\", \"\\uae30\\uacc4\", \"\\uae30\\uad00\", \"\\uae30\\uad00\", \"\\uae30\\uc790\", \"\\uae30\\uc790\", \"\\uae30\\uc790\", \"\\uae40\\uc5ec\\uc0ac\", \"\\uae40\\uc5ec\\uc0ac\", \"\\uae40\\uc5ec\\uc0ac\", \"\\uae5c\\ub465\\uc774\", \"\\uae5c\\ub465\\uc774\", \"\\uae5c\\ub465\\uc774\", \"\\ub098\\ub77c\", \"\\ub098\\ub77c\", \"\\ub098\\ub77c\", \"\\ub098\\ub77c\", \"\\ub09c\\ubbfc\", \"\\ub09c\\ubbfc\", \"\\ub09c\\ubbfc\", \"\\ub0a8\\ub140\", \"\\ub0a8\\ub140\", \"\\ub0a8\\ub140\", \"\\ub0a8\\uc131\", \"\\ub0a8\\uc131\", \"\\ub0a8\\uc131\", \"\\ub0a8\\uc544\", \"\\ub0a8\\uc544\", \"\\ub0a8\\uc544\", \"\\ub0a8\\uc790\", \"\\ub0a8\\uc790\", \"\\ub0a8\\uc790\", \"\\ub0a8\\uc790\", \"\\ub0a8\\ud3b8\", \"\\ub0a8\\ud3b8\", \"\\ub0a8\\ud3b8\", \"\\ub178\\uac00\\ub2e4\", \"\\ub178\\uac00\\ub2e4\", \"\\ub178\\uac00\\ub2e4\", \"\\ub178\\uac00\\ub2e4\", \"\\ub178\\ub798\", \"\\ub178\\ub798\", \"\\ub178\\uc608\", \"\\ub178\\uc608\", \"\\ub178\\uc608\", \"\\ub178\\ucc98\\ub140\", \"\\ub178\\ucc98\\ub140\", \"\\ub178\\ucc98\\ub140\", \"\\ub178\\ucd9c\", \"\\ub18d\\uad6c\", \"\\ub18d\\uad6c\", \"\\ub18d\\uad6c\", \"\\ub204\\uac00\", \"\\ub204\\uac00\", \"\\ub204\\uac00\", \"\\ub2a5\\ub825\", \"\\ub2a5\\ub825\", \"\\ub2a5\\ub825\", \"\\ub2a5\\ub825\", \"\\ub2e8\\uacb0\", \"\\ub2e8\\uacb0\", \"\\ub2e8\\uacb0\", \"\\ub2e8\\uacb0\", \"\\ub2e8\\uccb4\", \"\\ub2e8\\uccb4\", \"\\ub2e8\\uccb4\", \"\\ub2f4\\ubc30\", \"\\ub2f4\\ubc30\", \"\\ub300\\ub9ac\", \"\\ub300\\ub9ac\", \"\\ub300\\ub9ac\", \"\\ub300\\ub9ac\", \"\\ub370\\ubdd4\", \"\\ub370\\ubdd4\", \"\\ub370\\ubdd4\", \"\\ub370\\ubdd4\", \"\\ub3c4\\uc7a5\", \"\\ub3c4\\uc7a5\", \"\\ub3c4\\uc7a5\", \"\\ub3d9\\ub0a8\\uc544\", \"\\ub3d9\\ub0a8\\uc544\", \"\\ub3d9\\ub0a8\\uc544\", \"\\ub3d9\\ub0a8\\uc544\", \"\\ub3d9\\ub0a8\\uc544\", \"\\ub3d9\\ub124\", \"\\ub3d9\\ub124\", \"\\ub3d9\\ub124\", \"\\ub3d9\\ub124\", \"\\ub3d9\\ub124\", \"\\ub3d9\\ub140\", \"\\ub3d9\\ub140\", \"\\ub3d9\\uc131\\uc560\", \"\\ub3d9\\uc131\\uc560\", \"\\ub3d9\\uc131\\uc560\", \"\\ub3d9\\uc131\\uc560\", \"\\ub3d9\\uc131\\uc560\\uc790\", \"\\ub3d9\\uc131\\uc560\\uc790\", \"\\ub3d9\\uc591\\uc778\", \"\\ub3d9\\uc591\\uc778\", \"\\ub3d9\\uc591\\uc778\", \"\\ub3d9\\uc591\\uc778\", \"\\ub3d9\\uc720\\ub7fd\", \"\\ub3d9\\uc720\\ub7fd\", \"\\ub3d9\\uc720\\ub7fd\", \"\\ub4dc\\ub77c\\ub9c8\", \"\\ub4dc\\ub77c\\ub9c8\", \"\\ub4dc\\ub77c\\ub9c8\", \"\\ub4dc\\ub77c\\ub9c8\", \"\\ub808\\uc988\", \"\\ub808\\uc988\", \"\\ub808\\uc988\", \"\\ub9c8\\uc2a4\\ud06c\", \"\\ub9c8\\uc2a4\\ud06c\", \"\\ub9c8\\uc2a4\\ud06c\", \"\\ub9d0\\ub300\\uafb8\", \"\\ub9d0\\ub300\\uafb8\", \"\\ub9d0\\ub300\\uafb8\", \"\\ub9d0\\ub300\\uafb8\", \"\\ub9d0\\uc138\", \"\\ub9d0\\uc138\", \"\\ub9d0\\uc138\", \"\\ub9e4\\ub825\", \"\\ub9e4\\ub825\", \"\\uba38\\ub9ac\", \"\\uba38\\ub9ac\", \"\\uba38\\ub9ac\", \"\\ubaa8\\ubc94\", \"\\ubaa8\\ubc94\", \"\\ubaa9\\uc18c\\ub9ac\", \"\\ubaa9\\uc18c\\ub9ac\", \"\\ubaa9\\uc18c\\ub9ac\", \"\\ubb38\\uc81c\", \"\\ubb38\\uc81c\", \"\\ubb38\\uc81c\", \"\\ubb38\\uc81c\", \"\\ubb38\\uc81c\", \"\\ubb54\\uac00\", \"\\ubb54\\uac00\", \"\\ubb54\\uac00\", \"\\ubb54\\uac00\", \"\\ubbf8\\uac1c\", \"\\ubbf8\\uac1c\", \"\\ubbf8\\uac1c\", \"\\ubbf8\\uac1c\", \"\\ubbf8\\uad6d\", \"\\ubbf8\\uad6d\", \"\\ubbf8\\uad6d\\uc778\", \"\\ubbf8\\uad6d\\uc778\", \"\\ubbf8\\uad6d\\uc778\", \"\\ubbf8\\ub355\", \"\\ubbf8\\ub355\", \"\\ubbf8\\ub355\", \"\\ubbf8\\ub355\", \"\\ubbfc\\uc774\", \"\\ubbfc\\uc774\", \"\\ubbfc\\uc774\", \"\\ubbfc\\uc774\", \"\\ubc14\\uc9c0\", \"\\ubc14\\uc9c0\", \"\\ubc18\\ub370\", \"\\ubc18\\ub370\", \"\\ubc18\\ub370\", \"\\ubc1c\\ubaa9\", \"\\ubc1c\\ubaa9\", \"\\ubc1c\\ubaa9\", \"\\ubc1c\\uc74c\", \"\\ubc1c\\uc74c\", \"\\ubc29\\uc1a1\\uc778\", \"\\ubc29\\uc1a1\\uc778\", \"\\ubc2d\\uc77c\", \"\\ubc2d\\uc77c\", \"\\ubc2d\\uc77c\", \"\\ubc30\\ub2ec\", \"\\ubc30\\ub2ec\", \"\\ubc30\\ub2ec\", \"\\ubc31\\ub9c8\", \"\\ubc31\\ub9c8\", \"\\ubc31\\ub9c8\", \"\\ubc84\\uc2a4\", \"\\ubc84\\uc2a4\", \"\\ubc84\\uc2a4\", \"\\ubc84\\uc2a4\", \"\\ubc8c\\uae30\", \"\\ubc8c\\uae30\", \"\\ubca0\\ud2b8\\ub0a8\", \"\\ubca0\\ud2b8\\ub0a8\", \"\\ubca0\\ud2b8\\ub0a8\", \"\\ubca0\\ud2b8\\ub0a8\", \"\\ubca0\\ud2b8\\ub0a8\", \"\\ubca0\\ud2b8\\ucf69\", \"\\ubca0\\ud2b8\\ucf69\", \"\\ubca0\\ud2b8\\ucf69\", \"\\ubca8\\ub77c\\ub8e8\\uc2a4\", \"\\ubca8\\ub77c\\ub8e8\\uc2a4\", \"\\ubca8\\ub77c\\ub8e8\\uc2a4\", \"\\ubca8\\ub77c\\ub8e8\\uc2a4\", \"\\ubcd1\\uc6d0\", \"\\ubcd1\\uc6d0\", \"\\ubd80\\ubaa8\", \"\\ubd80\\ubaa8\", \"\\ubd80\\ubaa8\", \"\\ubd80\\ubaa8\", \"\\ubd80\\uc2dc\", \"\\ubd80\\uc2dc\", \"\\ubd80\\uc2dc\", \"\\ubd81\\ud55c\", \"\\ubd81\\ud55c\", \"\\ubd81\\ud55c\", \"\\ubd84\\ud64d\\uc0c9\", \"\\ubd84\\ud64d\\uc0c9\", \"\\ubd84\\ud64d\\uc0c9\", \"\\uc0ac\\uace0\", \"\\uc0ac\\uace0\", \"\\uc0ac\\uace0\", \"\\uc0ac\\uae30\", \"\\uc0ac\\uae30\", \"\\uc0ac\\ub78c\", \"\\uc0ac\\ub78c\", \"\\uc0ac\\ub78c\", \"\\uc0ac\\ub78c\", \"\\uc0ac\\ub78c\", \"\\uc0ac\\ub791\", \"\\uc0ac\\ub791\", \"\\uc0ac\\ub791\", \"\\uc0ac\\ud68c\", \"\\uc0ac\\ud68c\", \"\\uc0ac\\ud68c\", \"\\uc0b4\\uae38\", \"\\uc0b4\\uae38\", \"\\uc0b4\\uae38\", \"\\uc0b4\\uc810\", \"\\uc0b4\\uc810\", \"\\uc0b4\\uc810\", \"\\uc0c1\\ub300\", \"\\uc0c1\\ub300\", \"\\uc0c1\\ub300\", \"\\uc0c1\\ub300\", \"\\uc0c1\\ub3c4\", \"\\uc0c1\\ub3c4\", \"\\uc0c1\\ub3c4\", \"\\uc0c1\\ub3c4\", \"\\uc0c1\\uc885\", \"\\uc0c1\\uc885\", \"\\uc0c1\\uc885\", \"\\uc0dd\\uac01\", \"\\uc0dd\\uac01\", \"\\uc0dd\\uac01\", \"\\uc0dd\\uac01\", \"\\uc11c\\uc6b8\", \"\\uc11c\\uc6b8\", \"\\uc11c\\uc6b8\", \"\\uc11c\\uc6b8\", \"\\uc11c\\uc6b8\", \"\\uc124\\uac70\\uc9c0\", \"\\uc124\\uac70\\uc9c0\", \"\\uc131\\uacf5\", \"\\uc131\\uacf5\", \"\\uc131\\uacf5\", \"\\uc131\\uad00\", \"\\uc131\\uad00\", \"\\uc131\\uad00\", \"\\uc131\\uad00\", \"\\uc131\\ubcc4\", \"\\uc131\\ubcc4\", \"\\uc131\\ubcc4\", \"\\uc131\\ubcc4\", \"\\uc138\\uacc4\", \"\\uc138\\uacc4\", \"\\uc138\\uae08\", \"\\uc138\\uae08\", \"\\uc138\\uae08\", \"\\uc138\\uae08\", \"\\uc138\\uc0c1\", \"\\uc138\\uc0c1\", \"\\uc138\\uc0c1\", \"\\uc138\\uc0c1\", \"\\uc138\\uc0c1\", \"\\uc18c\\ubc29\\uad00\", \"\\uc18c\\ubc29\\uad00\", \"\\uc18c\\ubc29\\uad00\", \"\\uc218\\ub2a5\", \"\\uc218\\ub2e4\", \"\\uc218\\ub2e4\", \"\\uc218\\uc6a9\\uc18c\", \"\\uc218\\uc6a9\\uc18c\", \"\\uc218\\uc785\", \"\\uc218\\uc785\", \"\\uc218\\uc785\", \"\\uc21c\\uc885\", \"\\uc21c\\uc885\", \"\\uc21c\\uc885\", \"\\uc2a4\\ud134\\ud2b8\\ub9e8\", \"\\uc2dc\\uace8\", \"\\uc2dc\\uace8\", \"\\uc2dc\\uace8\", \"\\uc2dc\\ub140\", \"\\uc2dc\\ub140\", \"\\uc2dc\\ub140\", \"\\uc2dc\\uc9d1\", \"\\uc2dc\\uc9d1\", \"\\uc2dc\\uc9d1\", \"\\uc2dc\\ud5d8\", \"\\uc2dc\\ud5d8\", \"\\uc2dc\\ud5d8\", \"\\uc2dd\\ubaa8\", \"\\uc2dd\\ubaa8\", \"\\uc2dd\\ubaa8\", \"\\uc2dd\\ubaa8\", \"\\uc2e0\\ubd80\", \"\\uc2e0\\ubd80\", \"\\uc2e0\\ubd80\", \"\\uc2e0\\ubd80\", \"\\uc2e4\\ub825\", \"\\uc2e4\\ub825\", \"\\uc2e4\\ub825\", \"\\uc2e4\\ub825\", \"\\uc2e4\\uc81c\", \"\\uc2e4\\uc81c\", \"\\uc2e4\\uc81c\", \"\\uc2ec\\ubd80\\ub984\", \"\\uc2ec\\ubd80\\ub984\", \"\\uc2ec\\ubd80\\ub984\", \"\\uc544\\ubb34\", \"\\uc544\\ubb34\", \"\\uc544\\ubb34\", \"\\uc544\\uc2dc\\uc544\", \"\\uc544\\uc2dc\\uc544\", \"\\uc544\\uc2dc\\uc544\", \"\\uc544\\uc2dc\\uc544\", \"\\uc544\\uc2dc\\uc544\\uc778\", \"\\uc544\\uc2dc\\uc544\\uc778\", \"\\uc544\\uc2dc\\uc544\\uc778\", \"\\uc544\\uc2dc\\uc544\\uc778\", \"\\uc544\\uc774\\ub3cc\", \"\\uc544\\uc774\\ub3cc\", \"\\uc544\\uc774\\ub3cc\", \"\\uc544\\uc774\\ub3cc\", \"\\uc544\\uc800\\uc528\", \"\\uc544\\uc800\\uc528\", \"\\uc544\\uc800\\uc528\", \"\\uc544\\uc90c\\ub9c8\", \"\\uc544\\uc90c\\ub9c8\", \"\\uc544\\uc90c\\ub9c8\", \"\\uc544\\uc90c\\ub9c8\", \"\\uc544\\uce68\", \"\\uc544\\uce68\", \"\\uc544\\uce68\", \"\\uc544\\uce68\", \"\\uc544\\uce68\\ubc25\", \"\\uc544\\uce68\\ubc25\", \"\\uc544\\uce68\\ubc25\", \"\\uc544\\ud30c\\ud2b8\", \"\\uc544\\ud30c\\ud2b8\", \"\\uc544\\ud30c\\ud2b8\", \"\\uc545\\ub3c5\", \"\\uc560\\uad50\", \"\\uc560\\uad50\", \"\\uc560\\ucd08\", \"\\uc560\\ucd08\", \"\\uc560\\ucd08\", \"\\uc560\\ucd08\", \"\\uc598\\uae30\", \"\\uc598\\uae30\", \"\\uc598\\uae30\", \"\\uc598\\uae30\", \"\\uc5b4\\ub9b0\\uc774\", \"\\uc5b4\\ub9b0\\uc774\", \"\\uc5c5\\ubb34\", \"\\uc5c5\\ubb34\", \"\\uc5c5\\ubb34\", \"\\uc5c5\\uc801\", \"\\uc5c5\\uc801\", \"\\uc5c5\\uc801\", \"\\uc5ec\\uacbd\", \"\\uc5ec\\uacbd\", \"\\uc5ec\\uc131\", \"\\uc5ec\\uc131\", \"\\uc5ec\\uc131\", \"\\uc5ec\\uc790\", \"\\uc5ec\\uc790\", \"\\uc5ec\\uc790\", \"\\uc601\\uc0c1\", \"\\uc601\\uc0c1\", \"\\uc601\\uc0c1\", \"\\uc601\\uc0c1\", \"\\uc601\\uc5b4\", \"\\uc601\\uc5b4\", \"\\uc601\\uc5b4\", \"\\uc601\\uc5b4\", \"\\uc601\\uc5b4\", \"\\uc601\\uc5c5\", \"\\uc601\\uc5c5\", \"\\uc608\\ucc9c\", \"\\uc608\\ucc9c\", \"\\uc624\\ud53c\", \"\\uc624\\ud53c\", \"\\uc678\\uad6d\\uc778\", \"\\uc678\\uad6d\\uc778\", \"\\uc678\\uad6d\\uc778\", \"\\uc678\\uad6d\\uc778\", \"\\uc678\\ub178\", \"\\uc678\\ub178\", \"\\uc678\\ub178\", \"\\uc694\\ub9ac\", \"\\uc694\\ub9ac\", \"\\uc694\\uc998\", \"\\uc694\\uc998\", \"\\uc694\\uc998\", \"\\uc694\\uc998\", \"\\uc694\\uc998\", \"\\uc6b0\\uc720\\ubd80\\ub2e8\", \"\\uc6b0\\uc720\\ubd80\\ub2e8\", \"\\uc6b0\\uc720\\ubd80\\ub2e8\", \"\\uc6b0\\uc720\\ubd80\\ub2e8\", \"\\uc6b0\\ud06c\\ub77c\", \"\\uc6b0\\ud06c\\ub77c\", \"\\uc6b0\\ud06c\\ub77c\", \"\\uc6b4\\ub3d9\", \"\\uc6b4\\ub3d9\", \"\\uc6b4\\ub3d9\", \"\\uc6b4\\ub3d9\", \"\\uc6b4\\uc804\", \"\\uc6b4\\uc804\", \"\\uc6b4\\uc804\", \"\\uc6d4\\ub4dc\\ucef5\", \"\\uc6d4\\ub4dc\\ucef5\", \"\\uc6d4\\ub4dc\\ucef5\", \"\\uc6d4\\ub4dc\\ucef5\", \"\\uc720\\uae30\", \"\\uc720\\uae30\", \"\\uc720\\uae30\", \"\\uc720\\uc77c\", \"\\uc720\\uc77c\", \"\\uc720\\uc77c\", \"\\uc720\\uc77c\", \"\\uc720\\uc804\\uc790\", \"\\uc720\\uc804\\uc790\", \"\\uc720\\uc804\\uc790\", \"\\uc720\\ud589\", \"\\uc720\\ud589\", \"\\uc720\\ud589\", \"\\uc720\\ud589\", \"\\uc720\\ud589\", \"\\uc758\\ubbf8\", \"\\uc758\\ubbf8\", \"\\uc758\\ubbf8\", \"\\uc758\\uc0ac\", \"\\uc758\\uc0ac\", \"\\uc758\\uc0ac\", \"\\uc758\\uc0ac\", \"\\uc758\\uc0ac\", \"\\uc758\\uc0c1\", \"\\uc758\\uc0c1\", \"\\uc758\\uc9c0\", \"\\uc758\\uc9c0\", \"\\uc758\\uc9c0\", \"\\uc774\\uc0ac\", \"\\uc774\\uc0ac\", \"\\uc774\\uc0ac\", \"\\uc774\\uc0ac\", \"\\uc774\\uc2ac\\ub78c\", \"\\uc774\\uc2ac\\ub78c\", \"\\uc774\\uc2ac\\ub78c\", \"\\uc778\\uac04\", \"\\uc778\\uac04\", \"\\uc778\\uac04\", \"\\uc778\\uad8c\", \"\\uc778\\uad8c\", \"\\uc778\\uad8c\", \"\\uc778\\uae30\", \"\\uc778\\uae30\", \"\\uc778\\ubb3c\", \"\\uc778\\ubb3c\", \"\\uc778\\ubb3c\", \"\\uc778\\uc0dd\", \"\\uc778\\uc0dd\", \"\\uc778\\uc0dd\", \"\\uc778\\uc0dd\", \"\\uc778\\uc0dd\", \"\\uc778\\uc131\", \"\\uc778\\uc131\", \"\\uc778\\uc131\", \"\\uc778\\uc815\", \"\\uc778\\uc815\", \"\\uc778\\uc815\", \"\\uc778\\uc815\", \"\\uc778\\uc885\", \"\\uc778\\uc885\", \"\\uc778\\uc885\", \"\\uc778\\uc885\", \"\\uc778\\uc885\", \"\\uc77c\\ubcf8\", \"\\uc77c\\ubcf8\", \"\\uc77c\\ubcf8\", \"\\uc77c\\ubcf8\\uc5b4\", \"\\uc77c\\ubcf8\\uc5b4\", \"\\uc77c\\ubcf8\\uc5b4\", \"\\uc77c\\ubcf8\\uc778\", \"\\uc77c\\ubcf8\\uc778\", \"\\uc77c\\ubcf8\\uc778\", \"\\uc77c\\uc9c0\", \"\\uc77c\\uc9c0\", \"\\uc784\\ub300\", \"\\uc784\\ub300\", \"\\uc784\\ub300\", \"\\uc784\\uc2e0\", \"\\uc784\\uc2e0\", \"\\uc784\\uc2e0\", \"\\uc790\\uccb4\", \"\\uc790\\uccb4\", \"\\uc790\\ud1f4\", \"\\uc790\\ud1f4\", \"\\uc790\\ud1f4\", \"\\uc7a0\\uc7ac\", \"\\uc7a0\\uc7ac\", \"\\uc7a0\\uc7ac\", \"\\uc7a0\\uc7ac\", \"\\uc7a5\\ub561\", \"\\uc7a5\\ub561\", \"\\uc7a5\\ub561\", \"\\uc7a5\\uc560\", \"\\uc7a5\\uc560\", \"\\uc7a5\\uc560\", \"\\uc7a5\\uc560\", \"\\uc7a5\\uc560\", \"\\uc7a5\\uc560\\uc778\", \"\\uc7a5\\uc560\\uc778\", \"\\uc7a5\\uc560\\uc778\", \"\\uc7a5\\uc560\\uc778\", \"\\uc7a5\\uc560\\uc778\", \"\\uc7ac\\uc218\", \"\\uc7ac\\uc218\", \"\\uc7ac\\uc218\", \"\\uc7ac\\uc218\", \"\\uc804\\ub77c\\ub3c4\", \"\\uc804\\ub77c\\ub3c4\", \"\\uc804\\ub77c\\ub3c4\", \"\\uc815\\ub2f9\", \"\\uc815\\ub2f9\", \"\\uc815\\ub2f9\", \"\\uc815\\ub3c4\", \"\\uc815\\ub3c4\", \"\\uc815\\ub3c4\", \"\\uc815\\ub3c4\", \"\\uc815\\ubcf4\", \"\\uc815\\ubcf4\", \"\\uc815\\uc0c1\", \"\\uc815\\uc0c1\", \"\\uc815\\uc0c1\", \"\\uc815\\uc0c1\", \"\\uc815\\uc2e0\\ubcd1\", \"\\uc815\\uc2e0\\ubcd1\", \"\\uc815\\uc2e0\\ubcd1\", \"\\uc815\\uce58\\uc778\", \"\\uc815\\uce58\\uc778\", \"\\uc870\\uc120\", \"\\uc870\\uc120\", \"\\uc870\\uc120\", \"\\uc870\\uc120\", \"\\uc870\\uc120\\uc871\", \"\\uc870\\uc120\\uc871\", \"\\uc870\\uc120\\uc871\", \"\\uc870\\uc120\\uc871\", \"\\uc870\\uc120\\uc871\", \"\\uc870\\uc2e0\", \"\\uc870\\uc2e0\", \"\\uc870\\uc2ec\", \"\\uc870\\uc2ec\", \"\\uc870\\uc2ec\", \"\\uc870\\uc2ec\", \"\\uc870\\uc2ec\", \"\\uc870\\uc9c1\", \"\\uc870\\uc9c1\", \"\\uc870\\uc9c1\", \"\\uc874\\uc2ec\", \"\\uc874\\uc2ec\", \"\\uc874\\uc2ec\", \"\\uc8fc\\uc81c\", \"\\uc8fc\\uc81c\", \"\\uc8fc\\uc81c\", \"\\uc8fc\\uc81c\", \"\\uc911\\uad6d\", \"\\uc911\\uad6d\", \"\\uc911\\uad6d\", \"\\uc911\\uad6d\", \"\\uc911\\uad6d\\uc778\", \"\\uc911\\uad6d\\uc778\", \"\\uc911\\uad6d\\uc778\", \"\\uc911\\uad6d\\uc778\", \"\\uc9c0\\uac11\", \"\\uc9c0\\uac11\", \"\\uc9c0\\ub124\", \"\\uc9c0\\ub124\", \"\\uc9c0\\ub124\", \"\\uc9c0\\ubc29\", \"\\uc9c0\\ubc29\", \"\\uc9c0\\ubc29\", \"\\uc9c0\\uc5ed\", \"\\uc9c0\\uc5ed\", \"\\uc9c0\\uc5ed\", \"\\uc9c0\\uc625\", \"\\uc9c0\\uc625\", \"\\uc9c0\\uc625\", \"\\uc9c0\\uc801\", \"\\uc9c0\\uc801\", \"\\uc9c0\\uc801\", \"\\uc9c0\\uc9c0\", \"\\uc9c0\\uc9c0\", \"\\uc9c0\\uc9c0\\uc790\", \"\\uc9c0\\uc9c0\\uc790\", \"\\uc9c1\\uc5c5\", \"\\uc9c1\\uc5c5\", \"\\uc9c1\\uc5c5\", \"\\uc9c1\\uc7a5\", \"\\uc9c1\\uc7a5\", \"\\uc9c1\\uc7a5\", \"\\uc9c1\\uc7a5\", \"\\uc9c4\\ud759\", \"\\uc9c4\\ud759\", \"\\uc9c4\\ud759\", \"\\uc9c4\\ud759\", \"\\uc9d1\\ub2e8\", \"\\uc9d1\\ub2e8\", \"\\uc9d1\\ub2e8\", \"\\uc9d1\\uc548\\uc77c\", \"\\uc9d1\\uc548\\uc77c\", \"\\uc9d1\\uc548\\uc77c\", \"\\uc9d1\\uc548\\uc77c\", \"\\ucabd\\ubc1c\\uc774\", \"\\ucc28\\ubcc4\", \"\\ucc28\\ubcc4\", \"\\ucc28\\ubcc4\", \"\\ucc28\\ubcc4\", \"\\ucc28\\ubcc4\", \"\\ucc28\\uc774\", \"\\ucc28\\uc774\", \"\\ucc28\\uc774\", \"\\ucc3d\\ud53c\", \"\\ucc3d\\ud53c\", \"\\ucc44\\uc2dd\\uc8fc\\uc758\\uc790\", \"\\ucc44\\uc2dd\\uc8fc\\uc758\\uc790\", \"\\ucca0\\uac15\", \"\\uccb4\\ub825\", \"\\uccb4\\ub825\", \"\\uccb4\\ub825\", \"\\ucd0c\\uad6c\\uc11d\", \"\\ucd0c\\uad6c\\uc11d\", \"\\ucd5c\\uace0\", \"\\ucd5c\\uace0\", \"\\ucd5c\\uace0\", \"\\ucd5c\\uace0\", \"\\ucd95\\uad6c\", \"\\ucd95\\uad6c\", \"\\ucd95\\uad6c\", \"\\ucd95\\uad6c\", \"\\ucd9c\\uc0b0\", \"\\ucd9c\\uc0b0\", \"\\ucd9c\\uc0b0\", \"\\ucd9c\\uc2e0\", \"\\ucd9c\\uc2e0\", \"\\ucd9c\\uc2e0\", \"\\ucd9c\\uc2e0\", \"\\ucde8\\ubbf8\", \"\\ucde8\\ubbf8\", \"\\ucde8\\ubbf8\", \"\\ucde8\\ubbf8\", \"\\ucde8\\uc9c1\", \"\\ucde8\\uc9c1\", \"\\ucde8\\uc9c1\", \"\\ucde8\\uc9c1\", \"\\ucde8\\ud5a5\", \"\\ucde8\\ud5a5\", \"\\ucde8\\ud5a5\", \"\\ucde8\\ud5a5\", \"\\uce58\\ub9c8\", \"\\uce58\\ub9c8\", \"\\uce5c\\uad6c\", \"\\uce5c\\uad6c\", \"\\uce5c\\uad6c\", \"\\uce5c\\uad6c\", \"\\uce74\\uc640\\uc774\", \"\\uce74\\uc640\\uc774\", \"\\uce74\\uc640\\uc774\", \"\\ud0c8\\ub808\\ubc18\", \"\\ud0c8\\ub808\\ubc18\", \"\\ud0c8\\ub808\\ubc18\", \"\\ud0c8\\ubaa8\", \"\\ud0c8\\ubaa8\", \"\\ud0c8\\ubaa8\", \"\\ud0c8\\ucd9c\", \"\\ud0c8\\ucd9c\", \"\\ud0c8\\ucd9c\", \"\\ud0c8\\ucd9c\", \"\\ud30c\\uc2a4\\ud0c0\", \"\\ud30c\\uc2a4\\ud0c0\", \"\\ud30c\\ud1a0\", \"\\ud30c\\ud1a0\", \"\\ud30c\\ud1a0\", \"\\ud30c\\ud1a0\", \"\\ud314\\uc790\", \"\\ud314\\uc790\", \"\\ud314\\uc790\", \"\\ud314\\uc790\", \"\\ud398\\ubbf8\", \"\\ud398\\ubbf8\", \"\\ud3b8\\uc548\", \"\\ud3b8\\uc548\", \"\\ud3b8\\uc758\\uc810\", \"\\ud3b8\\uc758\\uc810\", \"\\ud3b8\\uc758\\uc810\", \"\\ud3b8\\uc758\\uc810\", \"\\ud3c9\\uc810\", \"\\ud3c9\\uc810\", \"\\ud3c9\\uc810\", \"\\ud48d\\uacbd\", \"\\ud504\\ub85c\\uc81d\\ud2b8\", \"\\ud504\\ub85c\\uc81d\\ud2b8\", \"\\ud504\\ub85c\\uc81d\\ud2b8\", \"\\ud504\\ub85c\\uc81d\\ud2b8\", \"\\ud53c\\ubd80\", \"\\ud53c\\ubd80\", \"\\ud53c\\ubd80\", \"\\ud53c\\ud574\", \"\\ud53c\\ud574\", \"\\ud544\\uc694\", \"\\ud544\\uc694\", \"\\ud544\\uc694\", \"\\ud544\\uc694\", \"\\ud551\\ud06c\", \"\\ud551\\ud06c\", \"\\ud559\\uad50\", \"\\ud559\\uad50\", \"\\ud559\\uad50\", \"\\ud559\\uad50\", \"\\ud559\\ubc8c\\uc8fc\\uc758\", \"\\ud559\\ubc8c\\uc8fc\\uc758\", \"\\ud559\\ubc8c\\uc8fc\\uc758\", \"\\ud55c\\uad6d\", \"\\ud55c\\uad6d\", \"\\ud55c\\uad6d\", \"\\ud55c\\uad6d\", \"\\ud55c\\uad6d\\uc5b4\", \"\\ud55c\\uad6d\\uc5b4\", \"\\ud55c\\uad6d\\uc5b4\", \"\\ud55c\\uad6d\\uc5b4\", \"\\ud55c\\uad6d\\uc778\", \"\\ud55c\\uad6d\\uc778\", \"\\ud55c\\uad6d\\uc778\", \"\\ud55c\\uad6d\\uc778\", \"\\ud55c\\ub0a8\", \"\\ud55c\\ub0a8\", \"\\ud55c\\ub0a8\", \"\\ud55c\\ub0a8\", \"\\ud55c\\ub0a8\", \"\\ud560\\ub9e4\", \"\\ud560\\ub9e4\", \"\\ud560\\ub9e4\", \"\\ud560\\ub9e4\", \"\\ud569\\ub9ac\", \"\\ud569\\ub9ac\", \"\\ud569\\ub9ac\", \"\\ud569\\ub9ac\", \"\\ud611\\ub3d9\", \"\\ud611\\ub3d9\", \"\\ud611\\ub3d9\", \"\\ud63c\\uc218\", \"\\ud63c\\uc218\", \"\\ud654\\uc7a5\", \"\\ud654\\uc7a5\", \"\\ud654\\uc7a5\", \"\\ud68c\\uc0ac\", \"\\ud68c\\uc0ac\", \"\\ud68c\\uc0ac\", \"\\ud68c\\uc0ac\", \"\\ud68c\\uc0ac\", \"\\ud6a8\\ub3c4\", \"\\ud6a8\\ub3c4\", \"\\ud6c4\\uc790\", \"\\ud6c4\\uc790\", \"\\ud6c4\\uc790\", \"\\ud751\\uc778\", \"\\ud751\\uc778\", \"\\ud751\\uc778\", \"\\ud751\\uc778\", \"\\ud788\\uc7a1\", \"\\ud788\\uc7a1\"]}, \"R\": 30, \"lambda.step\": 0.01, \"plot.opts\": {\"xlab\": \"PC1\", \"ylab\": \"PC2\"}, \"topic.order\": [4, 2, 7, 1, 3, 8, 5, 6]};\n",
              "\n",
              "function LDAvis_load_lib(url, callback){\n",
              "  var s = document.createElement('script');\n",
              "  s.src = url;\n",
              "  s.async = true;\n",
              "  s.onreadystatechange = s.onload = callback;\n",
              "  s.onerror = function(){console.warn(\"failed to load library \" + url);};\n",
              "  document.getElementsByTagName(\"head\")[0].appendChild(s);\n",
              "}\n",
              "\n",
              "if(typeof(LDAvis) !== \"undefined\"){\n",
              "   // already loaded: just create the visualization\n",
              "   !function(LDAvis){\n",
              "       new LDAvis(\"#\" + \"ldavis_el5521397907822399048839789801\", ldavis_el5521397907822399048839789801_data);\n",
              "   }(LDAvis);\n",
              "}else if(typeof define === \"function\" && define.amd){\n",
              "   // require.js is available: use it to load d3/LDAvis\n",
              "   require.config({paths: {d3: \"https://d3js.org/d3.v5\"}});\n",
              "   require([\"d3\"], function(d3){\n",
              "      window.d3 = d3;\n",
              "      LDAvis_load_lib(\"https://cdn.jsdelivr.net/gh/bmabey/pyLDAvis@3.3.1/pyLDAvis/js/ldavis.v3.0.0.js\", function(){\n",
              "        new LDAvis(\"#\" + \"ldavis_el5521397907822399048839789801\", ldavis_el5521397907822399048839789801_data);\n",
              "      });\n",
              "    });\n",
              "}else{\n",
              "    // require.js not available: dynamically load d3 & LDAvis\n",
              "    LDAvis_load_lib(\"https://d3js.org/d3.v5.js\", function(){\n",
              "         LDAvis_load_lib(\"https://cdn.jsdelivr.net/gh/bmabey/pyLDAvis@3.3.1/pyLDAvis/js/ldavis.v3.0.0.js\", function(){\n",
              "                 new LDAvis(\"#\" + \"ldavis_el5521397907822399048839789801\", ldavis_el5521397907822399048839789801_data);\n",
              "            })\n",
              "         });\n",
              "}\n",
              "</script>"
            ]
          },
          "metadata": {},
          "execution_count": 38
        }
      ]
    },
    {
      "cell_type": "code",
      "source": [],
      "metadata": {
        "id": "MhqqUtDPosbh"
      },
      "execution_count": null,
      "outputs": []
    }
  ]
}